{
 "cells": [
  {
   "cell_type": "markdown",
   "id": "main-title",
   "metadata": {},
   "source": [
    "# Strands Agent Deployment in Bedrock AgentCore Runtime with Observability\n",
    "\n",
    "This workshop demonstrates how to deploy Strands Agents with Amazon Bedrock AgentCore Runtime, integrating multiple tools including MCP servers, code interpreters, and custom functions for comprehensive AI agent capabilities.\n",
    "\n",
    "## Overview\n",
    "\n",
    "In this lab, you will:\n",
    "- Deploy a Strands Agent with multiple integrated tools\n",
    "- Test the deployed agent with various scenarios\n",
    "- Learn about observability and monitoring"
   ]
  },
  {
   "cell_type": "markdown",
   "id": "prerequisites",
   "metadata": {},
   "source": [
    "## Prerequisites\n",
    "\n",
    "Before starting this lab, ensure you have:\n",
    "- AWS credentials configured (IAM role or environment variables)\n",
    "- Required Python packages installed\n",
    "- Basic understanding of Strands Agents and Bedrock AgentCore concepts\n",
    "\n",
    "If you're not running in an environment with an IAM role assumed, set your AWS credentials as environment variables:"
   ]
  },
  {
   "cell_type": "code",
   "execution_count": null,
   "id": "819e8385",
   "metadata": {},
   "outputs": [],
   "source": [
    "import os\n",
    "\n",
    "#os.environ[\"AWS_ACCESS_KEY_ID\"]=<YOUR ACCESS KEY>\n",
    "#os.environ[\"AWS_SECRET_ACCESS_KEY\"]=<YOUR SECRET KEY>\n",
    "#os.environ[\"AWS_SESSION_TOKEN\"]=<OPTIONAL - YOUR SESSION TOKEN IF TEMP CREDENTIAL>\n",
    "#os.environ[\"AWS_REGION\"]=<AWS REGION WITH BEDROCK AGENTCORE AVAILABLE>"
   ]
  },
  {
   "cell_type": "markdown",
   "id": "install-deps",
   "metadata": {},
   "source": [
    "Install required packages for Strands Agents, MCP integration, and Bedrock AgentCore SDK:"
   ]
  },
  {
   "cell_type": "code",
   "execution_count": null,
   "id": "facf0fdd-cc35-48f7-b098-ca157944acdd",
   "metadata": {
    "collapsed": true,
    "jupyter": {
     "outputs_hidden": true
    }
   },
   "outputs": [],
   "source": [
    "#%pip install -q strands-agents strands-agents-tools bedrock-agentcore bedrock-agentcore-starter-toolkit"
   ]
  },
  {
   "cell_type": "markdown",
   "id": "what-is-strands",
   "metadata": {},
   "source": [
    "## What is Strands Agent with Bedrock AgentCore Runtime?\n",
    "\n",
    "Strands Agents provide a powerful framework for building AI agents with multiple tool integrations. When deployed with Bedrock AgentCore Runtime, you get:\n",
    "\n",
    "- **Scalable Deployment**: Managed infrastructure with auto-scaling capabilities\n",
    "- **Secure Authentication**: Built-in security with Cognito integration\n",
    "- **Observability**: CloudWatch integration for monitoring and debugging\n",
    "- **Multi-Tool Integration**: Combine MCP servers in AgentCore Runtime, Code Interpreters, and Browser"
   ]
  },
  {
   "cell_type": "code",
   "execution_count": null,
   "id": "ed19d14a-aaa1-43ff-a005-b1f33a9de096",
   "metadata": {},
   "outputs": [],
   "source": [
    "from strands import Agent, tool\n",
    "from strands.models import BedrockModel\n",
    "from strands_tools import calculator\n",
    "\n",
    "@tool\n",
    "def weather(city: str) -> str:\n",
    "    \"\"\"Get weather information for a city\n",
    "    Args:\n",
    "        city: City or location name\n",
    "    \"\"\"\n",
    "    return f\"Weather for {city}: Sunny, 35°C\" # dummy result for demo purpose\n",
    "\n",
    "# Create and test the comprehensive Strands Agent\n",
    "agent = Agent(\n",
    "    model=BedrockModel(model_id=\"us.amazon.nova-pro-v1:0\"),\n",
    "    system_prompt = \"\"\"You are a helpful assistant that provides concise responses.\n",
    "                    \"\"\",\n",
    "    tools=[weather, calculator],\n",
    ")\n",
    "\n",
    "print(\"\\n1. Testing custom weather tool:\")\n",
    "agent(\"How is the weather in HK?\")\n",
    "\n",
    "print(\"\\n2. Testing calculator tool:\")\n",
    "agent(\"2+2=\")"
   ]
  },
  {
   "cell_type": "markdown",
   "id": "deploy-strands-agent",
   "metadata": {},
   "source": [
    "## Deploy Strands Agent to Bedrock AgentCore Runtime\n",
    "\n",
    "Create a deployable version of our Strands Agent and deploy it as a managed service.\n",
    "![bedrock-agentcore-runtime-launch](images/runtime-launch.png)\n",
    "\n",
    "### Deployment Process:\n",
    "1. Create Python file with agent configuration\n",
    "2. Set up requirements.txt with dependencies\n",
    "3. Configure AgentCore Runtime with authentication\n",
    "4. Deploy using CodeBuild for containerization"
   ]
  },
  {
   "cell_type": "markdown",
   "id": "08aeb241",
   "metadata": {},
   "source": [
    "### Step 1: Create Python File with Agent Configuration\n",
    "\n",
    "Create the main Python file that defines our Strands Agent with all integrated tools. This file will be deployed to Bedrock AgentCore Runtime as a containerized service.\n",
    "\n",
    "**Deployment Requirements:**\n",
    "To deploy agents to AgentCore Runtime, we need to:\n",
    "- Import the Runtime App: `from bedrock_agentcore.runtime import BedrockAgentCoreApp`\n",
    "- Initialize the App: `app = BedrockAgentCoreApp()`\n",
    "- Decorate the invocation function with `@app.entrypoint`\n",
    "- Let AgentCore Runtime control execution with `app.run()`"
   ]
  },
  {
   "cell_type": "code",
   "execution_count": null,
   "id": "065fd87d-f86f-46e1-9986-bdc26bcdb0df",
   "metadata": {},
   "outputs": [],
   "source": [
    "%%writefile strands_agent.py\n",
    "from strands import Agent, tool\n",
    "from strands.models import BedrockModel\n",
    "from strands_tools import calculator\n",
    "from bedrock_agentcore.runtime import BedrockAgentCoreApp\n",
    "\n",
    "app = BedrockAgentCoreApp()\n",
    "\n",
    "@tool\n",
    "def weather(city: str) -> str:\n",
    "    \"\"\"Get weather information for a city\n",
    "    Args:\n",
    "        city: City or location name\n",
    "    \"\"\"\n",
    "    return f\"Weather for {city}: Sunny, 35°C\"\n",
    "\n",
    "\n",
    "# Create and test the comprehensive Strands Agent\n",
    "agent = Agent(\n",
    "    model=BedrockModel(model_id=\"us.amazon.nova-pro-v1:0\"),\n",
    "    system_prompt = \"\"\"You are a helpful assistant that provides concise responses.\n",
    "                    \"\"\",\n",
    "    tools=[weather, calculator],\n",
    ")\n",
    "\n",
    "@app.entrypoint\n",
    "async def strands_agent_bedrock(payload, context):\n",
    "    \"\"\"\n",
    "    Invoke the agent with a payload\n",
    "    \"\"\"\n",
    "    print(f\"Payload: {payload}\")\n",
    "    print(f\"Context: {context}\")\n",
    "    user_input = payload.get(\"prompt\", \"No prompt found\")\n",
    "    reponse = agent(user_input)\n",
    "    return response\n",
    "    \n",
    "    # Streaming Mode\n",
    "    \"\"\"\n",
    "    stream = agent.stream_async(user_input)\n",
    "    async for event in stream:\n",
    "        if \"data\" in event:\n",
    "            yield event\n",
    "    \"\"\"\n",
    "\n",
    "if __name__ == \"__main__\":\n",
    "    app.run()"
   ]
  },
  {
   "cell_type": "markdown",
   "id": "8389ed65",
   "metadata": {},
   "source": [
    "## What happens behind the scenes?\n",
    "\n",
    "When you use `BedrockAgentCoreApp`, it automatically:\n",
    "\n",
    "* Creates an HTTP server that listens on the port 8080\n",
    "* Implements the required `/invocations` endpoint for processing the agent's requirements\n",
    "* Implements the `/ping` endpoint for health checks (very important for asynchronous agents)\n",
    "* Handles proper content types and response formats\n",
    "* Manages error handling according to the AWS standards"
   ]
  },
  {
   "cell_type": "markdown",
   "id": "630de916",
   "metadata": {},
   "source": [
    "### Local Testing (Optional)\n",
    "\n",
    "Before deploying to AgentCore Runtime, you can test the agent locally to verify functionality.\n",
    "\n",
    "**Start Local Server:**\n",
    "```bash\n",
    "uv run strands_agent.py\n",
    "```\n",
    "or\n",
    "```bash\n",
    "python strands_agent.py\n",
    "```\n",
    "The server will start at `http://localhost:8080`\n",
    "\n",
    "**Test with cURL:**\n",
    "```bash\n",
    "curl -X POST http://localhost:8080/invocations \\\n",
    "  -H \"Content-Type: application/json\" \\\n",
    "  -H \"X-Amzn-Bedrock-AgentCore-Runtime-User-Id: 123\" \\\n",
    "  -H \"X-Amzn-Bedrock-AgentCore-Runtime-Session-Id: 1234567890123456789012345678901234567890\" \\\n",
    "  -d '{\"prompt\": \"How is the weather in HK?\"}'\n",
    "```"
   ]
  },
  {
   "cell_type": "markdown",
   "id": "75e73073",
   "metadata": {},
   "source": [
    "### Step 2: Create Requirements File\n",
    "\n",
    "Define the Python dependencies needed for our Strands Agent deployment.\n",
    "\n",
    "**Key Dependencies:**\n",
    "- **aws-opentelemetry-distro**: Required for AgentCore observability\n",
    "- **strands-agents**: Core Strands framework\n",
    "- **bedrock-agentcore**: Runtime integration\n",
    "\n",
    "**Observability Integration:**\n",
    "The `aws-opentelemetry-distro` library enables automatic instrumentation for monitoring and tracing. As documented in the [AgentCore Observability Guide](https://docs.aws.amazon.com/bedrock-agentcore/latest/devguide/observability-configure.html), the containerized environment (such as docker) need to add the following command:\n",
    "\n",
    "```dockerfile\n",
    "CMD [\"opentelemetry-instrument\", \"python\", \"main.py\"]\n",
    "```\n",
    "\n",
    "This auto-instrumentation approach automatically adds the OpenTelemetry SDK to the Python path for comprehensive observability."
   ]
  },
  {
   "cell_type": "code",
   "execution_count": null,
   "id": "8ce02b2c-05ff-4a3c-a581-bcaa320b3b55",
   "metadata": {},
   "outputs": [],
   "source": [
    "%%writefile requirements.txt\n",
    "strands-agents\n",
    "strands-agents-tools\n",
    "bedrock-agentcore\n",
    "bedrock-agentcore-starter-toolkit\n",
    "aws-opentelemetry-distro>=0.10.0"
   ]
  },
  {
   "cell_type": "markdown",
   "id": "6fcfe207",
   "metadata": {},
   "source": [
    "### Observability Setup (Optional)\n",
    "\n",
    "**CloudWatch APM Configuration:**\n",
    "Enable CloudWatch APM → Transaction Search for comprehensive observability and monitoring of your deployed Strands Agent. In this lab, set X-Ray trace indexing to 100% for generating all trace summaries for end-to-end transaction analytics.\n",
    "![bedrock-agentcore-observability-setup](images/observability-setup.png)\n",
    "\n",
    "**Benefits:**\n",
    "- **Performance Monitoring**: Request tracing and response time metrics\n",
    "- **Error Tracking**: Comprehensive debugging capabilities\n",
    "- **Usage Analytics**: Patterns and usage insights\n",
    "- **Distributed Tracing**: End-to-end request flow visibility"
   ]
  },
  {
   "cell_type": "markdown",
   "id": "71e5b911",
   "metadata": {},
   "source": [
    "### Step 3: Configure AgentCore Runtime\n",
    "\n",
    "Set up the Bedrock AgentCore Runtime configuration with automatic resource creation.\n",
    "\n",
    "**Generated Artifacts:**\n",
    "This step creates essential deployment files:\n",
    "- **Dockerfile**: Container configuration for the Strands Agent\n",
    "- **.dockerignore**: list the excluded files when docker build\n",
    "- **.bedrock_agentcore.yaml**: Runtime deployment configuration\n",
    "\n",
    "Please note that when using the bedrock_agentcore_starter_toolkit to configure your agent, it takes care of the opentelemetry instrumentation. The generated Dockerfile will include:\n",
    "```bash\n",
    "CMD [\"opentelemetry-instrument\", \"python\", \"runtime_agent_main.py\"]\n",
    "```"
   ]
  },
  {
   "cell_type": "code",
   "execution_count": null,
   "id": "f3f7b591-1845-4e9c-97ad-d5d304ce7528",
   "metadata": {},
   "outputs": [],
   "source": [
    "from bedrock_agentcore_starter_toolkit import Runtime\n",
    "import boto3\n",
    "\n",
    "region = boto3.session.Session().region_name\n",
    "agentcore_runtime = Runtime()\n",
    "\n",
    "response = agentcore_runtime.configure(\n",
    "    entrypoint=\"strands_agent.py\",\n",
    "    auto_create_execution_role=True,\n",
    "    auto_create_ecr=True,\n",
    "    requirements_file=\"requirements.txt\",\n",
    "    region=region,\n",
    "    agent_name=\"strands_claude_getting_started\"\n",
    ")\n",
    "response"
   ]
  },
  {
   "cell_type": "markdown",
   "id": "5e8c91a8",
   "metadata": {},
   "source": [
    "### Step 4: Deploy to AgentCore Runtime\n",
    "\n",
    "Launch the deployment process using AWS CodeBuild for containerization and deployment.\n",
    "\n",
    "**Deployment Process:**\n",
    "- Builds a containerized version of your Strands Agents\n",
    "- Creates required AWS resources (ECR repository, IAM roles)\n",
    "- Push container image to Amazon ECR\n",
    "- Deploys to AgentCore Runtime as a managed, auto-scaling service"
   ]
  },
  {
   "cell_type": "code",
   "execution_count": null,
   "id": "130faf98-71ab-428b-9d4d-a4e2fb0692bb",
   "metadata": {},
   "outputs": [],
   "source": [
    "launch_result = agentcore_runtime.launch()"
   ]
  },
  {
   "cell_type": "markdown",
   "id": "verify-deployment",
   "metadata": {},
   "source": [
    "### Step 5: Verify Deployment Status\n",
    "\n",
    "Monitor the deployment progress and wait for the runtime to be ready:"
   ]
  },
  {
   "cell_type": "code",
   "execution_count": null,
   "id": "ce33cae8-101c-404f-830c-e7170c4f9e2a",
   "metadata": {},
   "outputs": [],
   "source": [
    "import time\n",
    "\n",
    "print(\"Checking AgentCore Runtime status...\")\n",
    "status_response = agentcore_runtime.status()\n",
    "status = status_response.endpoint['status']\n",
    "print(f\"Initial status: {status}\")\n",
    "\n",
    "end_status = ['READY', 'CREATE_FAILED', 'DELETE_FAILED', 'UPDATE_FAILED']\n",
    "while status not in end_status:\n",
    "    print(f\"Status: {status} - waiting...\")\n",
    "    time.sleep(10)\n",
    "    status_response = agentcore_runtime.status()\n",
    "    status = status_response.endpoint['status']\n",
    "\n",
    "if status == 'READY':\n",
    "    print(\"✓ AgentCore Runtime is READY!\")\n",
    "else:\n",
    "    print(f\"⚠ AgentCore Runtime status: {status}\")\n",
    "    \n",
    "print(f\"Final status: {status}\")\n",
    "\n",
    "agent_runtime_id = launch_result.agent_id\n",
    "agent_runtime_arn = launch_result.agent_arn\n",
    "ecr_repo_name = launch_result.ecr_uri.split('/')[1]\n",
    "codebuild_name = launch_result.codebuild_id.split(':')[0]\n",
    "print(f\"Strands AgentCore Runtime ID: {agent_runtime_id}\")\n",
    "print(f\"Strands AgentCore Runtime ARN: {agent_runtime_arn}\")\n",
    "print(f\"ECR Repo for Strands AgentCore Runtime: {ecr_repo_name}\")\n",
    "print(f\"CodeBuild Project for Strands AgentCore Runtime: {codebuild_name}\")"
   ]
  },
  {
   "cell_type": "markdown",
   "id": "test-deployed-agent",
   "metadata": {},
   "source": [
    "## Testing the Deployed Agent\n",
    "\n",
    "Test the deployed Strands Agent by invoking it through the Bedrock AgentCore Runtime API with various prompts to verify all integrated tools are working correctly."
   ]
  },
  {
   "cell_type": "code",
   "execution_count": null,
   "id": "3ffb4068-4c29-4522-b79d-0db190aed33c",
   "metadata": {},
   "outputs": [],
   "source": [
    "import boto3\n",
    "import json\n",
    "import uuid\n",
    "\n",
    "SESSION_ID = str(uuid.uuid4())\n",
    "\n",
    "PROMPT = \"How is the weather in HK?\"\n",
    "\n",
    "agentcore_client = boto3.client(\n",
    "    'bedrock-agentcore',\n",
    "    region_name=boto3.session.Session().region_name\n",
    ")\n",
    "\n",
    "boto3_response = agentcore_client.invoke_agent_runtime(\n",
    "    agentRuntimeArn=agent_runtime_arn,\n",
    "    qualifier=\"DEFAULT\",\n",
    "    runtimeSessionId=SESSION_ID, #Provide same session identifier across multiple requests to maintain conversation context, and with better traceability\n",
    "    payload=json.dumps({\"prompt\": PROMPT})\n",
    ")\n",
    "\n",
    "if \"text/event-stream\" in boto3_response.get(\"contentType\", \"\"):\n",
    "    for line in boto3_response[\"response\"].iter_lines(chunk_size=1):\n",
    "        if line:\n",
    "            line = line.decode(\"utf-8\")\n",
    "            if line.startswith(\"data: \"):\n",
    "                print(line)\n",
    "else:\n",
    "    events = []\n",
    "    for event in boto3_response.get(\"response\", []):\n",
    "        print(event.decode('utf-8'))\n",
    "        events.append(event)"
   ]
  },
  {
   "cell_type": "markdown",
   "id": "d24ca662",
   "metadata": {},
   "source": [
    "### Testing Conversation History\n",
    "\n",
    "Verify that the agent maintains conversation context across multiple requests using the same session ID:"
   ]
  },
  {
   "cell_type": "code",
   "execution_count": null,
   "id": "02004ab5",
   "metadata": {},
   "outputs": [],
   "source": [
    "PROMPT = \"What did I ask?\"\n",
    "\n",
    "boto3_response = agentcore_client.invoke_agent_runtime(\n",
    "    agentRuntimeArn=agent_runtime_arn,\n",
    "    qualifier=\"DEFAULT\",\n",
    "    runtimeSessionId=SESSION_ID, #Provide same session identifier across multiple requests to maintain conversation context, and with better traceability\n",
    "    payload=json.dumps({\"prompt\": PROMPT})\n",
    ")\n",
    "\n",
    "if \"text/event-stream\" in boto3_response.get(\"contentType\", \"\"):\n",
    "    for line in boto3_response[\"response\"].iter_lines(chunk_size=1):\n",
    "        if line:\n",
    "            line = line.decode(\"utf-8\")\n",
    "            if line.startswith(\"data: \"):\n",
    "                print(line)\n",
    "else:\n",
    "    events = []\n",
    "    for event in boto3_response.get(\"response\", []):\n",
    "        print(event.decode('utf-8'))\n",
    "        events.append(event)"
   ]
  },
  {
   "cell_type": "markdown",
   "id": "dbccecff",
   "metadata": {},
   "source": [
    "## Conversation History and Session Management\n",
    "\n",
    "**Strands Agents Conversation Management:**\n",
    "Strands Agents includes built-in conversation management with a default `SlidingWindowConversationManager` strategy. This automatically maintains conversation context within session, but not persistent across multiple sessions.\n",
    "\n",
    "**Reference:** [Strands Agents Conversation Management](https://strandsagents.com/latest/documentation/docs/user-guide/concepts/agents/conversation-management/)\n",
    "\n",
    "**AgentCore Runtime Session Isolation:**\n",
    "- **Session Isolation**: Each user session is isolated and secure\n",
    "- **Context Reuse**: Conversation history is maintained across multiple invocations\n",
    "- **Session Duration**: Ephemeral sessions last up to 8 hours\n",
    "- **Automatic Cleanup**: Sessions are automatically cleaned up after expiration\n",
    "\n",
    "**Reference:** [AgentCore Runtime Sessions](https://docs.aws.amazon.com/bedrock-agentcore/latest/devguide/runtime-sessions.html)\n",
    "\n",
    "\n",
    "For persistent memory beyond session duration, integrate with **Bedrock AgentCore Memory** for long-term conversation storage and retrieval.\n",
    "\n",
    "**Reference:** [AgentCore Memory: Add memory to your AI agent](https://docs.aws.amazon.com/bedrock-agentcore/latest/devguide/memory.html)"
   ]
  },
  {
   "cell_type": "markdown",
   "id": "a2d43d2e",
   "metadata": {},
   "source": [
    "## AgentCore Observability on Amazon CloudWatch\n",
    "\n",
    "### What is Bedrock AgentCore Observability?\n",
    "\n",
    "Amazon Bedrock AgentCore provides built-in observability through CloudWatch and X-Ray integration. This enables monitoring of agent performance, tracing request flows, and analyzing conversation patterns.\n",
    "\n",
    "Key features:\n",
    "- **Session Tracking**: Monitor individual conversations\n",
    "- **Distributed Tracing**: Track requests across components\n",
    "- **Performance Metrics**: Latency, throughput, and error rates\n",
    "- **Span Analysis**: Detailed execution breakdown\n",
    "\n",
    "Learn more: [AgentCore Observability Guide](https://docs.aws.amazon.com/bedrock-agentcore/latest/devguide/observability.html)\n",
    "\n",
    "### Viewing the Main Dashboard\n",
    "\n",
    "Access the CloudWatch console to view your AgentCore observability dashboard:\n",
    "![observability-main-dashboard.png](images/observability-main-dashboard.png)\n",
    "\n",
    "### Session Management\n",
    "\n",
    "Click **DEFAULT** in `strands_claude_getting_started` to view session history. This shows our test session with two traces: \"How is the weather in HK?\" and \"What did I ask?\"\n",
    "![observability-session-list.png](images/observability-session-list.png)\n",
    "\n",
    "### Session Overview\n",
    "\n",
    "Select a session to see metrics, trace timeline, and performance data:\n",
    "![observability-session-overview.png](images/observability-session-overview.png)\n",
    "\n",
    "### Trace Analysis\n",
    "\n",
    "Click any trace to examine detailed execution steps:\n",
    "\n",
    "**Trace Summary**:\n",
    "![observability-trace-summary.png](images/observability-trace-summary.png)\n",
    "\n",
    "**Span Details**:\n",
    "![observability-trace-span-1.png](images/observability-trace-span-1.png)\n",
    "![observability-trace-span-2.png](images/observability-trace-span-2.png)"
   ]
  },
  {
   "cell_type": "markdown",
   "id": "cleanup",
   "metadata": {},
   "source": [
    "## Resource Cleanup (Optional)\n",
    "\n",
    "Clean up the deployed resources:"
   ]
  },
  {
   "cell_type": "code",
   "execution_count": null,
   "id": "4fc99fea",
   "metadata": {},
   "outputs": [],
   "source": [
    "import boto3\n",
    "import os\n",
    "\n",
    "agentcore_control_client = boto3.client('bedrock-agentcore-control', region_name=region)\n",
    "ecr_client = boto3.client('ecr',region_name=region)\n",
    "codebuild_client = boto3.client('codebuild',region_name=region)\n",
    "\n",
    "try:\n",
    "    print(\"Deleting AgentCore Runtime...\")\n",
    "    agentcore_control_client.delete_agent_runtime(agentRuntimeId=agent_runtime_id)\n",
    "    print(\"✓ AgentCore Runtime deletion initiated\")\n",
    "\n",
    "    print(\"Deleting ECR repository...\")\n",
    "    ecr_client.delete_repository(repositoryName=ecr_repo_name, force=True)\n",
    "    print(\"✓ ECR repository deleted\")\n",
    "\n",
    "    print(\"Deleting CodeBuild Project...\")\n",
    "    codebuild_client.delete_project(name=codebuild_name)\n",
    "    print(\"✓ CodeBuild Project deleted\")\n",
    "\n",
    "    print(\"Deleting Bedrock AgentCore configuration file...\")\n",
    "    os.remove(\".bedrock_agentcore.yaml\") \n",
    "    print(\"✓ .bedrock_agentcore.yaml deleted\")\n",
    "except Exception as e:\n",
    "    print(f\"❌ Error during cleanup: {e}\")\n",
    "    print(\"You may need to manually clean up some resources.\")"
   ]
  },
  {
   "cell_type": "markdown",
   "id": "conclusion",
   "metadata": {},
   "source": [
    "## Conclusion\n",
    "\n",
    "In this lab, you successfully:\n",
    "\n",
    "- ✅ Deployed a Strands Agent to Bedrock AgentCore Runtime\n",
    "- ✅ Configured observability and monitoring with Amazon CloudWatch\n",
    "- ✅ Tested end-to-end agent functionality with invoking remote agent in AgentCore Runtime environment\n",
    "- ✅ Explored session isolation and automatic cleanup capabilities\n",
    "\n",
    "## Key Benefits of AgentCore Runtime for Strands Agents\n",
    "\n",
    "- **Production Deployment**: Scalable, managed infrastructure for AI agents\n",
    "- **Comprehensive Observability**: Built-in monitoring, tracing, and debugging capabilities\n",
    "- **Session Management**: Automatic session isolation and cleaned up \n",
    "- **Enterprise Ready**: Security, reliability, and compliance features for production workloads\n"
   ]
  },
  {
   "cell_type": "markdown",
   "id": "2d20b9d1",
   "metadata": {},
   "source": []
  }
 ],
 "metadata": {
  "kernelspec": {
   "display_name": "bedrock-agentcore-workshop",
   "language": "python",
   "name": "python3"
  },
  "language_info": {
   "codemirror_mode": {
    "name": "ipython",
    "version": 3
   },
   "file_extension": ".py",
   "mimetype": "text/x-python",
   "name": "python",
   "nbconvert_exporter": "python",
   "pygments_lexer": "ipython3",
   "version": "3.12.11"
  }
 },
 "nbformat": 4,
 "nbformat_minor": 5
}
