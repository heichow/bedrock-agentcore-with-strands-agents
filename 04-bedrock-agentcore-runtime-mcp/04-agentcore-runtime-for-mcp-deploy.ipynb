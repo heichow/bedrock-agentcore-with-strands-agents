{
 "cells": [
  {
   "cell_type": "markdown",
   "id": "main-title",
   "metadata": {},
   "source": [
    "# MCP Server Deployment in Bedrock AgentCore Runtime\n",
    "\n",
    "This workshop demonstrates how to deploy and use Model Context Protocol (MCP) servers with Amazon Bedrock AgentCore Runtime, enabling scalable and secure deployment of custom tools for AI agents.\n",
    "\n",
    "## Overview\n",
    "\n",
    "In this lab, you will:\n",
    "- Create a custom MCP server with web search functionality\n",
    "- Set up authentication using Amazon Cognito\n",
    "- Deploy the MCP server to Bedrock AgentCore Runtime\n",
    "- Test the deployed server with Strands Agents"
   ]
  },
  {
   "cell_type": "markdown",
   "id": "09619786",
   "metadata": {},
   "source": [
    "## Prerequisites\n",
    "\n",
    "Before starting this lab, ensure you have:\n",
    "- AWS credentials configured (IAM role or environment variables)\n",
    "- Required Python packages installed\n",
    "- Basic understanding of MCP and Bedrock AgentCore concepts\n",
    "\n",
    "If you're not running in an environment with an IAM role assumed, set your AWS credentials as environment variables:"
   ]
  },
  {
   "cell_type": "code",
   "execution_count": null,
   "id": "0b68362f",
   "metadata": {},
   "outputs": [],
   "source": [
    "import os\n",
    "\n",
    "#os.environ[\"AWS_ACCESS_KEY_ID\"]=<YOUR ACCESS KEY>\n",
    "#os.environ[\"AWS_SECRET_ACCESS_KEY\"]=<YOUR SECRET KEY>\n",
    "#os.environ[\"AWS_SESSION_TOKEN\"]=<OPTIONAL - YOUR SESSION TOKEN IF TEMP CREDENTIAL>\n",
    "#os.environ[\"AWS_REGION\"]=<AWS REGION WITH BEDROCK AGENTCORE AVAILABLE>"
   ]
  },
  {
   "cell_type": "markdown",
   "id": "cd4c88bd",
   "metadata": {},
   "source": [
    "Install required packages for MCP server development, Strands Agents and Bedrock AgentCore SDK:"
   ]
  },
  {
   "cell_type": "code",
   "execution_count": null,
   "id": "85df8338-241f-4c97-bed9-bf598e6d4a44",
   "metadata": {},
   "outputs": [],
   "source": [
    "#%pip install -q ddgs mcp strands-agents strands-agents-tools bedrock-agentcore bedrock-agentcore-starter-toolkit rich"
   ]
  },
  {
   "cell_type": "markdown",
   "id": "what-is-mcp",
   "metadata": {},
   "source": [
    "## What is Bedrock AgentCore Runtime for MCP?\n",
    "\n",
    "Amazon Bedrock AgentCore Runtime allows you to deploy Model Context Protocol (MCP) servers as managed, scalable services. Key benefits include:\n",
    "\n",
    "- **Scalability**: Automatically scales based on demand\n",
    "- **Security**: Built-in authentication and authorization\n",
    "- **Managed Infrastructure**: No need to manage servers or containers\n",
    "- **Integration**: Seamless integration with Bedrock services\n",
    "\n",
    "MCP servers provide tools and resources that AI agents can use to extend their capabilities, such as web search, database access, or custom business logic."
   ]
  },
  {
   "cell_type": "markdown",
   "id": "create-mcp-server",
   "metadata": {},
   "source": [
    "### Creating a Custom MCP Server\n",
    "\n",
    "Let's create a simple MCP server that provides web search functionality using DuckDuckGo. This server will be deployed to AgentCore Runtime for scalable use."
   ]
  },
  {
   "cell_type": "code",
   "execution_count": null,
   "id": "11f9a24b-1cd0-46e4-bb68-05daeb29e814",
   "metadata": {},
   "outputs": [],
   "source": [
    "%%writefile mcp_server.py\n",
    "from mcp.server.fastmcp import FastMCP\n",
    "from ddgs import DDGS\n",
    "from ddgs.exceptions import RatelimitException, DDGSException\n",
    "\n",
    "mcp = FastMCP(host=\"0.0.0.0\", stateless_http=True)\n",
    "\n",
    "# Define a websearch tool\n",
    "@mcp.tool()\n",
    "def websearch(keywords: str, region: str = \"us-en\", max_results: int | None = None) -> list:\n",
    "    \"\"\"Search the web to get updated information.\n",
    "    Args:\n",
    "        keywords (str): The search query keywords.\n",
    "        region (str): The search region: wt-wt, us-en, uk-en, ru-ru, etc..\n",
    "        max_results (int | None): The maximum number of results to return.\n",
    "    Returns:\n",
    "        List of dictionaries with search results.\n",
    "    \"\"\"\n",
    "    try:\n",
    "        results = DDGS().text(keywords, region=region, max_results=max_results)\n",
    "        return results if results else \"No results found.\"\n",
    "    except RatelimitException:\n",
    "        return \"RatelimitException: Please try again after a short delay.\"\n",
    "    except DDGSException as d:\n",
    "        return f\"DuckDuckGoSearchException: {d}\"\n",
    "    except Exception as e:\n",
    "        return f\"Exception: {e}\"\n",
    "\n",
    "if __name__ == \"__main__\":\n",
    "    mcp.run(transport=\"streamable-http\")"
   ]
  },
  {
   "cell_type": "code",
   "execution_count": null,
   "id": "703e9437-537a-4f97-b31f-90ed9e382ff0",
   "metadata": {},
   "outputs": [],
   "source": [
    "%%writefile requirements.txt\n",
    "ddgs\n",
    "mcp\n",
    "bedrock-agentcore"
   ]
  },
  {
   "cell_type": "markdown",
   "id": "local-test",
   "metadata": {},
   "source": [
    "### Local Testing of MCP Server (Optional - skip if port 8000 is occupied in workshop environment)\n",
    "\n",
    "Before deploying to AgentCore Runtime, test the MCP server locally.\n",
    "\n",
    "### Step 1: Start the MCP Server\n",
    "\n",
    "Run the MCP server in a terminal:\n",
    "\n",
    "```bash\n",
    "cd 04-bedrock-agentcore-runtime-mcp/\n",
    "uv pip install -r requirements.txt\n",
    "uv run mcp_server.py\n",
    "```\n",
    "or\n",
    "```bash\n",
    "cd 04-bedrock-agentcore-runtime-mcp/\n",
    "pip install -r requirements.txt\n",
    "python mcp_server.py\n",
    "```\n",
    "\n",
    "### Step 2: Test with Strands Agent\n",
    "\n",
    "Execute the following code to test the integration:"
   ]
  },
  {
   "cell_type": "code",
   "execution_count": null,
   "id": "352ee559",
   "metadata": {},
   "outputs": [],
   "source": [
    "from strands import Agent\n",
    "from strands.models import BedrockModel\n",
    "from strands.tools.mcp import MCPClient\n",
    "from mcp.client.streamable_http import streamablehttp_client\n",
    "\n",
    "# Connect to the web search MCP server\n",
    "print(\"\\nConnecting to MCP Server...\")\n",
    "mcp_url = f\"http://localhost:8000/mcp\"\n",
    "websearch_server = MCPClient(lambda: streamablehttp_client(mcp_url))\n",
    "\n",
    "with websearch_server:\n",
    "    mcp_tools = (websearch_server.list_tools_sync())\n",
    "    print(f\"Available MCP tools: {[tool.tool_name for tool in mcp_tools]}\")\n",
    "\n",
    "    # Create agent with self-built MCP tools\n",
    "    agent = Agent(\n",
    "        model=BedrockModel(model_id=\"us.amazon.nova-pro-v1:0\"),\n",
    "        system_prompt = \"\"\"You are a helpful assistant that provides concise responses.\n",
    "                        If web search, always use websearch tool first.\n",
    "                        \"\"\",\n",
    "        tools=mcp_tools,\n",
    "    )\n",
    "\n",
    "    agent(\"What is Bedrock AgentCore?\")"
   ]
  },
  {
   "cell_type": "markdown",
   "id": "977dc81c",
   "metadata": {},
   "source": [
    "### Stop the MCP server running locally\n",
    "\n",
    "After test MCP server locally, press `Ctrl+C` in terminal to stop the MCP server running locally."
   ]
  },
  {
   "cell_type": "markdown",
   "id": "setup-auth",
   "metadata": {},
   "source": [
    "## Deploy MCP Server in Bedrock AgentCore Runtime with Authentication \n",
    "Now we'll configure and deploy our MCP server to Bedrock AgentCore Runtime. This process involves creating dependencies, configuring authentication, and deploying the service.\n",
    "![bedrock-agentcore-runtime-launch](images/runtime-launch.png)\n",
    "\n",
    "### Step 1: Setting up Amazon Cognito for Inbound Authentication\n",
    "\n",
    "Create a Cognito User Pool for secure access to the deployed MCP server.\n",
    "\n",
    "Components Created\n",
    "- **User Pool**: Manages user identities\n",
    "- **App Client**: Enables application authentication\n",
    "- **Test User**: For testing the authentication flow"
   ]
  },
  {
   "cell_type": "code",
   "execution_count": null,
   "id": "5167555a",
   "metadata": {},
   "outputs": [],
   "source": [
    "import boto3\n",
    "\n",
    "region = boto3.session.Session().region_name\n",
    "\n",
    "# Initialize Cognito client\n",
    "cognito_client = boto3.client('cognito-idp', region_name=region)\n",
    "\n",
    "# Create User Pool\n",
    "user_pool_response = cognito_client.create_user_pool(\n",
    "    PoolName='MCPServerPool',\n",
    "    Policies={\n",
    "        'PasswordPolicy': {\n",
    "            'MinimumLength': 8\n",
    "        }\n",
    "    }\n",
    ")\n",
    "cognito_pool_id = user_pool_response['UserPool']['Id']\n",
    "\n",
    "# Create App Client\n",
    "app_client_response = cognito_client.create_user_pool_client(\n",
    "    UserPoolId=cognito_pool_id,\n",
    "    ClientName='MCPServerPoolClient',\n",
    "    GenerateSecret=False,\n",
    "    ExplicitAuthFlows=[\n",
    "        'ALLOW_USER_PASSWORD_AUTH',\n",
    "        'ALLOW_REFRESH_TOKEN_AUTH'\n",
    "    ]\n",
    ")\n",
    "cognito_client_id = app_client_response['UserPoolClient']['ClientId']\n",
    "\n",
    "# Create User\n",
    "cognito_client.admin_create_user(\n",
    "    UserPoolId=cognito_pool_id,\n",
    "    Username='testuser',\n",
    "    TemporaryPassword='Temp123!',\n",
    "    MessageAction='SUPPRESS'\n",
    ")\n",
    "\n",
    "# Set Permanent Password\n",
    "cognito_client.admin_set_user_password(\n",
    "    UserPoolId=cognito_pool_id,\n",
    "    Username='testuser',\n",
    "    Password='MyPassword123!',\n",
    "    Permanent=True\n",
    ")\n",
    "\n",
    "# Output the required values\n",
    "print(f\"Pool id: {cognito_pool_id}\")\n",
    "print(f\"Discovery URL: https://cognito-idp.{region}.amazonaws.com/{cognito_pool_id}/.well-known/openid-configuration\")\n",
    "print(f\"Client ID: {cognito_client_id}\")"
   ]
  },
  {
   "cell_type": "markdown",
   "id": "4b53220d",
   "metadata": {},
   "source": [
    "### Step 2: Configuring Bedrock AgentCore Runtime\n",
    "\n",
    "Set up the Bedrock AgentCore Runtime configuration with automatic resource creation.\n",
    "\n",
    "**Generated Artifacts:**\n",
    "This step creates essential deployment files:\n",
    "- **Dockerfile**: Container configuration for the MCP Server\n",
    "- **.dockerignore**: list the excluded files when docker build\n",
    "- **.bedrock_agentcore.yaml**: Runtime deployment configuration"
   ]
  },
  {
   "cell_type": "code",
   "execution_count": null,
   "id": "e8cdf5d6-5b9a-4351-b34d-92676080644b",
   "metadata": {},
   "outputs": [],
   "source": [
    "from bedrock_agentcore_starter_toolkit import Runtime\n",
    "import boto3\n",
    "\n",
    "region = boto3.session.Session().region_name\n",
    "print(f\"Using AWS region: {region}\")\n",
    "\n",
    "agentcore_runtime = Runtime()\n",
    "\n",
    "print(\"Configuring AgentCore Runtime...\")\n",
    "response = agentcore_runtime.configure(\n",
    "    entrypoint=\"mcp_server.py\",\n",
    "    auto_create_execution_role=True,\n",
    "    auto_create_ecr=True,\n",
    "    requirements_file=\"requirements.txt\",\n",
    "    region=region,\n",
    "    protocol=\"MCP\",\n",
    "    agent_name=\"mcp_server_agentcore\",\n",
    "    authorizer_configuration={\n",
    "        \"customJWTAuthorizer\": {\n",
    "            \"allowedClients\": [cognito_client_id],\n",
    "            \"discoveryUrl\": f\"https://cognito-idp.{region}.amazonaws.com/{cognito_pool_id}/.well-known/openid-configuration\",\n",
    "        }\n",
    "    }\n",
    ")\n",
    "print(\"Configuration completed ✓\")"
   ]
  },
  {
   "cell_type": "markdown",
   "id": "deploy-runtime",
   "metadata": {},
   "source": [
    "### Step 3: Deploying to Bedrock AgentCore Runtime\n",
    "\n",
    "Launch the deployment process using AWS CodeBuild for containerization and deployment.\n",
    "\n",
    "**Deployment Process:**\n",
    "- Builds a containerized version of your MCP Server\n",
    "- Creates required AWS resources (ECR repository, IAM roles)\n",
    "- Push container image to Amazon ECR\n",
    "- Deploys to AgentCore Runtime as a managed, auto-scaling service"
   ]
  },
  {
   "cell_type": "code",
   "execution_count": null,
   "id": "538b3b2e-2ffd-4c00-acd9-b1544aa1563f",
   "metadata": {},
   "outputs": [],
   "source": [
    "launch_result = agentcore_runtime.launch()"
   ]
  },
  {
   "cell_type": "markdown",
   "id": "cbc46255",
   "metadata": {},
   "source": [
    "### Verify Deployment Status\n",
    "\n",
    "Check the deployment status and wait for the runtime to be ready:"
   ]
  },
  {
   "cell_type": "code",
   "execution_count": null,
   "id": "5b406c83-3e70-4865-afc6-0617e8ed8e1b",
   "metadata": {},
   "outputs": [],
   "source": [
    "import time\n",
    "\n",
    "print(\"Checking AgentCore Runtime status...\")\n",
    "status_response = agentcore_runtime.status()\n",
    "status = status_response.endpoint['status']\n",
    "print(f\"Initial status: {status}\")\n",
    "\n",
    "end_status = ['READY', 'CREATE_FAILED', 'DELETE_FAILED', 'UPDATE_FAILED']\n",
    "while status not in end_status:\n",
    "    print(f\"Status: {status} - waiting...\")\n",
    "    time.sleep(10)\n",
    "    status_response = agentcore_runtime.status()\n",
    "    status = status_response.endpoint['status']\n",
    "\n",
    "if status == 'READY':\n",
    "    print(\"✓ AgentCore Runtime is READY!\")\n",
    "else:\n",
    "    print(f\"⚠ AgentCore Runtime status: {status}\")\n",
    "    \n",
    "print(f\"Final status: {status}\")\n",
    "\n",
    "mcp_runtime_id = launch_result.agent_id\n",
    "mcp_runtime_arn = launch_result.agent_arn\n",
    "ecr_repo_name = launch_result.ecr_uri.split('/')[1]\n",
    "codebuild_name = launch_result.codebuild_id.split(':')[0]\n",
    "print(f\"MCP AgentCore Runtime ID: {mcp_runtime_id}\")\n",
    "print(f\"MCP AgentCore Runtime ARN: {mcp_runtime_arn}\")\n",
    "print(f\"ECR Repo for MCP AgentCore Runtime: {ecr_repo_name}\")\n",
    "print(f\"CodeBuild Project for Strands AgentCore Runtime: {codebuild_name}\")"
   ]
  },
  {
   "cell_type": "markdown",
   "id": "test-deployed",
   "metadata": {},
   "source": [
    "### Testing the Deployed MCP Server as tool with Strands Agent\n",
    "\n",
    "Now let's test our deployed MCP server by connecting to it through the Bedrock AgentCore Runtime endpoint with proper authentication.\n",
    "\n",
    "First, we obtain the access token from Cognito authentication with username and password."
   ]
  },
  {
   "cell_type": "code",
   "execution_count": null,
   "id": "46783108",
   "metadata": {},
   "outputs": [],
   "source": [
    "import boto3\n",
    "\n",
    "region = boto3.session.Session().region_name\n",
    "\n",
    "# Get bearer token (access token) from Cognito Auth \n",
    "cognito_client = boto3.client('cognito-idp', region_name=boto3.session.Session().region_name)\n",
    "auth_response = cognito_client.initiate_auth(\n",
    "    ClientId=cognito_client_id,\n",
    "    AuthFlow='USER_PASSWORD_AUTH',\n",
    "    AuthParameters={\n",
    "        'USERNAME': 'testuser',\n",
    "        'PASSWORD': 'MyPassword123!'\n",
    "    }\n",
    ")\n",
    "bearer_token = auth_response['AuthenticationResult']['AccessToken']\n",
    "print(bearer_token)"
   ]
  },
  {
   "cell_type": "markdown",
   "id": "6dfc2f38",
   "metadata": {},
   "source": [
    "Then, we set the access token as bearer in the request header to securely connect MCP server hosting in AgentCore Runtime."
   ]
  },
  {
   "cell_type": "code",
   "execution_count": null,
   "id": "a6e6cd23-af2e-4bd5-b4a1-32c7d89f19fb",
   "metadata": {},
   "outputs": [],
   "source": [
    "from strands import Agent\n",
    "from strands.models import BedrockModel\n",
    "from strands.tools.mcp import MCPClient\n",
    "from mcp.client.streamable_http import streamablehttp_client\n",
    "\n",
    "region = boto3.session.Session().region_name\n",
    "\n",
    "mcp_runtime_arn = launch_result.agent_arn\n",
    "encoded_arn = mcp_runtime_arn.replace(':', '%3A').replace('/', '%2F')\n",
    "\n",
    "# Connect to the Web Search MCP server\n",
    "print(\"\\nConnecting to MCP Server...\")\n",
    "mcp_url = f\"https://bedrock-agentcore.{region}.amazonaws.com/runtimes/{encoded_arn}/invocations?qualifier=DEFAULT\"\n",
    "headers = {\n",
    "    \"Authorization\": f\"Bearer {bearer_token}\",\n",
    "    #\"Content-Type\": \"application/json\"\n",
    "}\n",
    "websearch_server = MCPClient(lambda: streamablehttp_client(mcp_url, headers))\n",
    "\n",
    "with websearch_server:\n",
    "    mcp_tools = (websearch_server.list_tools_sync())\n",
    "    print(f\"Available tools: {[tool.tool_name for tool in mcp_tools]}\")\n",
    "\n",
    "    # Create agent with self-built MCP tools\n",
    "    agent = Agent(\n",
    "        model=BedrockModel(model_id=\"us.amazon.nova-pro-v1:0\"),\n",
    "        system_prompt = \"\"\"You are a helpful assistant that provides concise responses.\n",
    "                        If web search, always use websearch tool first.\n",
    "                        \"\"\",\n",
    "        tools=mcp_tools,\n",
    "    )\n",
    "\n",
    "    agent(\"What is Bedrock AgentCore?\")"
   ]
  },
  {
   "cell_type": "markdown",
   "id": "6a29d5a6",
   "metadata": {},
   "source": [
    "Let's examine the detailed execution flow of the agent loop to understand how the agent processes requests and generates responses:"
   ]
  },
  {
   "cell_type": "code",
   "execution_count": null,
   "id": "f4438701-c52b-4a87-a9ee-85cf51f4352b",
   "metadata": {},
   "outputs": [],
   "source": [
    "from rich.table import Table\n",
    "import rich\n",
    "import json\n",
    "\n",
    "console = rich.get_console()\n",
    "\n",
    "console.print(\"Agent Loop Detail\")\n",
    "console.rule()\n",
    "console.print(f\"Number of Loops: {agent.event_loop_metrics.cycle_count}\")\n",
    "\n",
    "table = Table(title=\"Agent Messages\", show_lines=True)\n",
    "table.add_column(\"Role\", style=\"green\")\n",
    "table.add_column(\"Text\", style=\"magenta\")\n",
    "table.add_column(\"Tool Name\", style=\"cyan\")\n",
    "table.add_column(\"Tool Input\", style=\"cyan\")\n",
    "table.add_column(\"Tool Result\", style=\"cyan\")\n",
    "\n",
    "for message in agent.messages:\n",
    "    text = [content[\"text\"] for content in message[\"content\"] if \"text\" in content]\n",
    "    tool_name = [content[\"toolUse\"][\"name\"] for content in message[\"content\"] if \"toolUse\" in content]\n",
    "    tool_input = [content[\"toolUse\"][\"input\"] for content in message[\"content\"] if \"toolUse\" in content]\n",
    "    tool_result = [content[\"toolResult\"][\"content\"][0] for content in message[\"content\"] if \"toolResult\" in content]\n",
    "    table.add_row(message[\"role\"], text[-1] if text else \"\", \n",
    "                  tool_name[-1] if tool_name else \"\", \n",
    "                  json.dumps(tool_input[-1], indent=2) if tool_input else \"\", \n",
    "                  (json.dumps(tool_result[-1], indent=2)[:500]+\"\\n.\\n.\\n.\" if len(str(tool_result[-1])) > 500 else json.dumps(tool_result[-1], indent=2)) if tool_result else \"\")\n",
    "\n",
    "console.print(table)"
   ]
  },
  {
   "cell_type": "markdown",
   "id": "4315b653",
   "metadata": {},
   "source": [
    "## Resource Cleanup (Optional)\n",
    "\n",
    "Clean up the deployed resources:"
   ]
  },
  {
   "cell_type": "code",
   "execution_count": null,
   "id": "a45bb7e0",
   "metadata": {},
   "outputs": [],
   "source": [
    "import boto3\n",
    "import os\n",
    "\n",
    "agentcore_control_client = boto3.client('bedrock-agentcore-control', region_name=region)\n",
    "ecr_client = boto3.client('ecr',region_name=region)\n",
    "codebuild_client = boto3.client('codebuild',region_name=region)\n",
    "cognito_client = boto3.client('cognito-idp', region_name=region)\n",
    "\n",
    "try:\n",
    "    print(\"Deleting AgentCore Runtime...\")\n",
    "    agentcore_control_client.delete_agent_runtime(agentRuntimeId=mcp_runtime_id)\n",
    "    print(\"✓ AgentCore Runtime deletion initiated\")\n",
    "\n",
    "    print(\"Deleting ECR repository...\")\n",
    "    ecr_client.delete_repository(repositoryName=ecr_repo_name, force=True)\n",
    "    print(\"✓ ECR repository deleted\")\n",
    "\n",
    "    print(\"Deleting CodeBuild Project...\")\n",
    "    codebuild_client.delete_project(name=codebuild_name)\n",
    "    print(\"✓ CodeBuild Project deleted\")\n",
    "\n",
    "    print(\"Deleting Cognito User Pool...\")\n",
    "    cognito_client.delete_user_pool(UserPoolId=cognito_pool_id)\n",
    "    print(\"✓ Cognito User Pool deleted\")\n",
    "\n",
    "    print(\"Deleting Bedrock AgentCore configuration file...\")\n",
    "    os.remove(\".bedrock_agentcore.yaml\") \n",
    "    print(\"✓ .bedrock_agentcore.yaml deleted\")\n",
    "except Exception as e:\n",
    "    print(f\"❌ Error during cleanup: {e}\")\n",
    "    print(\"You may need to manually clean up some resources.\")"
   ]
  },
  {
   "cell_type": "markdown",
   "id": "bc1520f1",
   "metadata": {},
   "source": [
    "## Conclusion\n",
    "\n",
    "In this lab, you successfully:\n",
    "\n",
    "- ✅ Created a custom MCP server with web search functionality using DuckDuckGo\n",
    "- ✅ Set up Amazon Cognito for secure authentication to the MCP server\n",
    "- ✅ Configured and deployed the MCP server to Bedrock AgentCore Runtime\n",
    "- ✅ Integrated the deployed MCP server with Strands Agents for AI-powered workflows\n",
    "  \n",
    "## Key Benefits of AgentCore Runtime for MCP\n",
    "\n",
    "- **Scalable Deployment**: Managed infrastructure for MCP servers without server management\n",
    "- **Secure Authentication**: Built-in support for Cognito and other authentication methods\n",
    "- **Easy Integration**: Seamless connection with Strands Agents and other AI frameworks\n",
    "- **Production Ready**: Enterprise-grade reliability and monitoring capabilities"
   ]
  }
 ],
 "metadata": {
  "kernelspec": {
   "display_name": ".venv",
   "language": "python",
   "name": "python3"
  },
  "language_info": {
   "codemirror_mode": {
    "name": "ipython",
    "version": 3
   },
   "file_extension": ".py",
   "mimetype": "text/x-python",
   "name": "python",
   "nbconvert_exporter": "python",
   "pygments_lexer": "ipython3",
   "version": "3.12.11"
  }
 },
 "nbformat": 4,
 "nbformat_minor": 5
}
