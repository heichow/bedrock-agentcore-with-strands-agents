{
 "cells": [
  {
   "cell_type": "markdown",
   "id": "main-title",
   "metadata": {},
   "source": [
    "# Getting Started with Strands Agents\n",
    "\n",
    "This workshop introduces Strands Agents, a powerful framework for building AI agents with tool integration capabilities. You'll learn the fundamentals of creating agents, using built-in tools, and developing custom tools.\n",
    "\n",
    "## Overview\n",
    "\n",
    "In this lab, you will:\n",
    "- Understand the core concepts of Strands Agents\n",
    "- Create your first AI agent with built-in tools\n",
    "- Build custom tools for specific use cases\n",
    "- Explore conversation history and agent memory\n",
    "- Learn best practices for agent development"
   ]
  },
  {
   "cell_type": "markdown",
   "id": "09619786",
   "metadata": {},
   "source": [
    "## Prerequisites\n",
    "\n",
    "Before starting this lab, ensure you have:\n",
    "- AWS credentials configured (IAM role or environment variables)\n",
    "- Required Python packages installed\n",
    "- Basic understanding of AI agents and tool integration concepts\n",
    "\n",
    "If you're not running in an environment with an IAM role assumed, set your AWS credentials as environment variables:"
   ]
  },
  {
   "cell_type": "code",
   "execution_count": null,
   "id": "a8111f9e",
   "metadata": {},
   "outputs": [],
   "source": [
    "import os\n",
    "\n",
    "#os.environ[\"AWS_ACCESS_KEY_ID\"]=<YOUR ACCESS KEY>\n",
    "#os.environ[\"AWS_SECRET_ACCESS_KEY\"]=<YOUR SECRET KEY>\n",
    "#os.environ[\"AWS_SESSION_TOKEN\"]=<OPTIONAL - YOUR SESSION TOKEN IF TEMP CREDENTIAL>\n",
    "#os.environ[\"AWS_REGION\"]=<AWS REGION WITH BEDROCK AGENTCORE AVAILABLE>"
   ]
  },
  {
   "cell_type": "markdown",
   "id": "cd4c88bd",
   "metadata": {},
   "source": [
    "Install required packages for Strands Agents:"
   ]
  },
  {
   "cell_type": "code",
   "execution_count": null,
   "id": "73c848d4",
   "metadata": {},
   "outputs": [],
   "source": [
    "%pip install -q strands-agents strands-agents-tools"
   ]
  },
  {
   "cell_type": "markdown",
   "id": "c131d5a7",
   "metadata": {},
   "source": [
    "## What are Strands Agents?\n",
    "\n",
    "Strands Agents is a Python framework that simplifies the creation of AI agents with tool integration capabilities. Key features include:\n",
    "\n",
    "- **Simple Agent Creation**: Easy-to-use API for creating AI agents with minimal code\n",
    "- **Built-in Tools**: Pre-built tools like calculators, web search, and more\n",
    "- **Custom Tool Support**: Create your own tools with simple Python functions\n",
    "- **Conversation Memory**: Automatic conversation history management\n",
    "- **Model Flexibility**: Support for various language models including models in Amazon Bedrock and OpenAI\n",
    "\n",
    "Strands Agents provides a foundation for building sophisticated AI applications that can interact with external systems and perform complex tasks."
   ]
  },
  {
   "cell_type": "markdown",
   "id": "e65876db",
   "metadata": {},
   "source": [
    "## Creating Your First Strands Agent\n",
    "\n",
    "Let's start by creating a simple agent with a built-in calculator tool. This demonstrates the basic structure of Strands Agents and how tools are integrated:"
   ]
  },
  {
   "cell_type": "code",
   "execution_count": null,
   "id": "69fefd8b",
   "metadata": {},
   "outputs": [],
   "source": [
    "from strands import Agent, tool\n",
    "from strands_tools import calculator\n",
    "\n",
    "# Create your first agent\n",
    "agent = Agent(\n",
    "    model=\"us.amazon.nova-pro-v1:0\", \n",
    "    system_prompt=\"You are a helpful assistant that provides concise responses.\",\n",
    "    tools=[calculator],\n",
    ")\n",
    "\n",
    "agent(\"2+2=\")"
   ]
  },
  {
   "cell_type": "markdown",
   "id": "custom-tools",
   "metadata": {},
   "source": [
    "## Building Custom Tools\n",
    "\n",
    "One of the powerful features of Strands Agents is the ability to create custom tools. Let's create a weather tool and combine it with the built-in calculator:"
   ]
  },
  {
   "cell_type": "code",
   "execution_count": null,
   "id": "cfdf3929",
   "metadata": {},
   "outputs": [],
   "source": [
    "from strands import Agent, tool\n",
    "from strands_tools import calculator\n",
    "\n",
    "# Create a custom weather tool for demonstration\n",
    "@tool\n",
    "def weather(city: str) -> str:\n",
    "    \"\"\"Get weather information for a city\n",
    "    Args:\n",
    "        city: City or location name\n",
    "    \"\"\"\n",
    "    return f\"Weather for {city}: Sunny, 35°C\" # dummy result for demo purpose\n",
    "\n",
    "# Create your first agent\n",
    "agent = Agent(\n",
    "    model=\"us.amazon.nova-pro-v1:0\", \n",
    "    system_prompt=\"You are a helpful assistant that provides concise responses.\",\n",
    "    tools=[weather, calculator],\n",
    ")\n",
    "\n",
    "print(\"\\n=== Testing Agent Capabilities ===\")\n",
    "print(\"\\n1. Testing custom weather tool:\")\n",
    "agent(\"How is the weather in HK?\")\n",
    "\n",
    "print(\"\\n2. Testing calculator tool:\")\n",
    "agent(\"2+2=\")"
   ]
  },
  {
   "cell_type": "markdown",
   "id": "conversation-history",
   "metadata": {},
   "source": [
    "## Strands Agents Conversation Management\n",
    "\n",
    "Strands Agents includes built-in conversation management with a default `SlidingWindowConversationManager` strategy. This system handles context management, memory optimization, and conversation flow to ensure agents can maintain coherent long-term interactions while respecting model context limits. This automatically maintains conversation context within sessions.\n",
    "\n",
    "**Reference:** [Strands Agents Conversation Management](https://strandsagents.com/latest/documentation/docs/user-guide/concepts/agents/conversation-management/)"
   ]
  },
  {
   "cell_type": "code",
   "execution_count": null,
   "id": "34f86802",
   "metadata": {},
   "outputs": [],
   "source": [
    "print(\"\\n3. Testing conversation history capability in Strands Agents:\")\n",
    "agent(\"What did we talk about?\")"
   ]
  },
  {
   "cell_type": "markdown",
   "id": "be6f0bcc",
   "metadata": {},
   "source": [
    "## Understanding Agent Execution Flow\n",
    "\n",
    "Let's examine how Strands Agents process requests and manage conversation history. This helps understand the internal workings of the agent framework:"
   ]
  },
  {
   "cell_type": "code",
   "execution_count": null,
   "id": "999c9fd8",
   "metadata": {},
   "outputs": [],
   "source": [
    "print(\"Agent Loop Detail\")\n",
    "print(\"-----------------\")\n",
    "\n",
    "print(f\"Agent Loop Length: {len(agent.messages)})\")\n",
    "print(\"\\nUser-Assistant Conversation:\")\n",
    "for message in agent.messages:\n",
    "    print(message)"
   ]
  },
  {
   "cell_type": "markdown",
   "id": "14a52155",
   "metadata": {},
   "source": [
    "## Summary\n",
    "\n",
    "In this introduction to Strands Agents, you've learned:\n",
    "\n",
    "### What We Accomplished\n",
    "- **Created your first AI agent** with built-in tools (calculator)\n",
    "- **Built custom tools** using the `@tool` decorator for specific use cases\n",
    "- **Explored conversation management** with different ConversationManager types\n",
    "- **Examined agent execution flow** and message history tracking\n",
    "\n",
    "### Additional Strands Capabilities\n",
    "Beyond what we've covered, Strands Agents offers:\n",
    "\n",
    "- **Model Context Protocol (MCP) Support**: Integrate with MCP servers for extended tool capabilities\n",
    "- **Multi-Agent Patterns**: Coordinate multiple agents for complex workflows\n",
    "- **Session Management**: Persistent conversation storage and retrieval\n",
    "- **Streaming Responses**: Real-time response generation for better user experience\n",
    "- **Custom Model Integration**: Support for various LLM providers beyond Amazon Bedrock\n",
    "\n",
    "### Next Steps: Bedrock AgentCore Integration\n",
    "\n",
    "Now that you understand the fundamentals of Strands Agents, we'll explore how to enhance these capabilities by integrating with **Amazon Bedrock AgentCore**. This integration provides:\n",
    "\n",
    "- **Code Interpreter**: Execute Python code dynamically within agents\n",
    "- **Browser Automation**: Web interaction and data extraction capabilities  \n",
    "- **Secure Credential Management**: Safe handling of external API keys and secrets\n",
    "- **Runtime Deployment**: Scalable agent deployment in cloud environments\n",
    "- **Enhanced Observability**: Monitoring and debugging tools for production agents"
   ]
  },
  {
   "cell_type": "markdown",
   "id": "7858b73a",
   "metadata": {},
   "source": []
  }
 ],
 "metadata": {
  "kernelspec": {
   "display_name": "bedrock-agentcore-workshop",
   "language": "python",
   "name": "python3"
  },
  "language_info": {
   "codemirror_mode": {
    "name": "ipython",
    "version": 3
   },
   "file_extension": ".py",
   "mimetype": "text/x-python",
   "name": "python",
   "nbconvert_exporter": "python",
   "pygments_lexer": "ipython3",
   "version": "3.12.11"
  }
 },
 "nbformat": 4,
 "nbformat_minor": 5
}
