{
 "cells": [
  {
   "cell_type": "markdown",
   "id": "main-title",
   "metadata": {},
   "source": [
    "# Strands Agents with Bedrock AgentCore Code Interpreter\n",
    "\n",
    "This workshop demonstrates how to integrate Strands Agents with Amazon Bedrock AgentCore Code Interpreter to create AI agents capable of executing code dynamically.\n",
    "\n",
    "## Overview\n",
    "\n",
    "In this lab, you will:\n",
    "- Learn about Bedrock AgentCore Code Interpreter capabilities\n",
    "- Test the default Code Interpreter with Strands Agents\n",
    "- Create a custom Code Interpreter with public network access\n",
    "- Compare different execution environments and their limitations"
   ]
  },
  {
   "cell_type": "markdown",
   "id": "09619786",
   "metadata": {},
   "source": [
    "## Prerequisites\n",
    "\n",
    "Before starting this lab, ensure you have:\n",
    "- AWS credentials configured (IAM role or environment variables)\n",
    "- Required Python packages installed\n",
    "- Basic understanding of Strands Agents and Bedrock AgentCore concepts\n",
    "\n",
    "If you're not running in an environment with an IAM role assumed, set your AWS credentials as environment variables:"
   ]
  },
  {
   "cell_type": "code",
   "execution_count": null,
   "id": "a8111f9e",
   "metadata": {},
   "outputs": [],
   "source": [
    "import os\n",
    "\n",
    "#os.environ[\"AWS_ACCESS_KEY_ID\"]=<YOUR ACCESS KEY>\n",
    "#os.environ[\"AWS_SECRET_ACCESS_KEY\"]=<YOUR SECRET KEY>\n",
    "#os.environ[\"AWS_SESSION_TOKEN\"]=<OPTIONAL - YOUR SESSION TOKEN IF TEMP CREDENTIAL>\n",
    "#os.environ[\"AWS_REGION\"]=<AWS REGION WITH BEDROCK AGENTCORE AVAILABLE>"
   ]
  },
  {
   "cell_type": "markdown",
   "id": "cd4c88bd",
   "metadata": {},
   "source": [
    "Install required packages for Strands Agents and Bedrock AgentCore Python SDK:"
   ]
  },
  {
   "cell_type": "code",
   "execution_count": null,
   "id": "73c848d4",
   "metadata": {},
   "outputs": [],
   "source": [
    "#%pip install -q strands-agents strands-agents-tools bedrock-agentcore rich"
   ]
  },
  {
   "cell_type": "markdown",
   "id": "c131d5a7",
   "metadata": {},
   "source": [
    "## What is Bedrock AgentCore Code Interpreter?\n",
    "\n",
    "Amazon Bedrock AgentCore Code Interpreter is a powerful tool that allows AI agents to execute code dynamically in a secure sandbox environment. Key benefits include:\n",
    "\n",
    "- **Secure Execution**: Runs Python code in an isolated sandbox environment\n",
    "- **Dynamic Problem Solving**: Enables agents to perform calculations, analyze data, and generate visualizations\n",
    "- **Flexible Configuration**: Supports both default sandboxed and custom network-enabled environments\n",
    "- **Integration Ready**: Seamlessly integrates with Strands Agents and other AI frameworks\n",
    "\n",
    "The Code Interpreter provides agents with the ability to solve complex problems that require computational analysis, data processing, or mathematical calculations."
   ]
  },
  {
   "cell_type": "markdown",
   "id": "e65876db",
   "metadata": {},
   "source": [
    "### Testing Strands Agent with Default Code Interpreter\n",
    "\n",
    "Let's start by testing the Strands Agent using the default AgentCore Code Interpreter. We'll demonstrate how it can generate and execute code to solve mathematical problems in a sandboxed environment."
   ]
  },
  {
   "cell_type": "code",
   "execution_count": null,
   "id": "69fefd8b",
   "metadata": {},
   "outputs": [],
   "source": [
    "from strands import Agent\n",
    "from strands.models import BedrockModel\n",
    "from strands_tools.code_interpreter import AgentCoreCodeInterpreter\n",
    "\n",
    "agentcore_code_interpreter = AgentCoreCodeInterpreter()\n",
    "\n",
    "# Create a code-gen assistant agent\n",
    "agent = Agent(\n",
    "    model=BedrockModel(model_id=\"us.amazon.nova-pro-v1:0\"),\n",
    "    system_prompt=\"\"\"You are a helpful AI assistant that validates all answers through code execution.\"\"\",\n",
    "    tools=[agentcore_code_interpreter.code_interpreter],\n",
    ")\n",
    "\n",
    "agent(\"2＋2=\")"
   ]
  },
  {
   "cell_type": "markdown",
   "id": "be6f0bcc",
   "metadata": {},
   "source": [
    "Let's examine the detailed execution flow of the agent loop to understand how the agent processes requests and generates responses:"
   ]
  },
  {
   "cell_type": "code",
   "execution_count": null,
   "id": "999c9fd8",
   "metadata": {},
   "outputs": [],
   "source": [
    "from rich.table import Table\n",
    "import rich\n",
    "import json\n",
    "\n",
    "console = rich.get_console()\n",
    "\n",
    "console.print(\"Agent Loop Detail\")\n",
    "console.rule()\n",
    "console.print(f\"Number of Loops: {agent.event_loop_metrics.cycle_count}\")\n",
    "\n",
    "table = Table(title=\"Agent Messages\", show_lines=True)\n",
    "table.add_column(\"Role\", style=\"green\")\n",
    "table.add_column(\"Text\", style=\"magenta\")\n",
    "table.add_column(\"Tool Name\", style=\"cyan\")\n",
    "table.add_column(\"Tool Input\", style=\"cyan\")\n",
    "table.add_column(\"Tool Result\", style=\"cyan\")\n",
    "\n",
    "for message in agent.messages:\n",
    "    text = [content[\"text\"] for content in message[\"content\"] if \"text\" in content]\n",
    "    tool_name = [content[\"toolUse\"][\"name\"] for content in message[\"content\"] if \"toolUse\" in content]\n",
    "    tool_input = [content[\"toolUse\"][\"input\"] for content in message[\"content\"] if \"toolUse\" in content]\n",
    "    tool_result = [content[\"toolResult\"][\"content\"][0] for content in message[\"content\"] if \"toolResult\" in content]\n",
    "    table.add_row(message[\"role\"], text[-1] if text else \"\", \n",
    "                  tool_name[-1] if tool_name else \"\", \n",
    "                  json.dumps(tool_input[-1], indent=2) if tool_input else \"\", \n",
    "                  (json.dumps(tool_result[-1], indent=2)[:500]+\"\\n.\\n.\\n.\" if len(str(tool_result[-1])) > 500 else json.dumps(tool_result[-1], indent=2)) if tool_result else \"\")\n",
    "\n",
    "console.print(table)"
   ]
  },
  {
   "cell_type": "markdown",
   "id": "12d4ebfa",
   "metadata": {},
   "source": [
    "### Understanding Sandbox Environment Limitations\n",
    "\n",
    "The default Code Interpreter operates in a **sandbox environment with network isolation**. This is an important security feature that prevents unauthorized network access while ensuring code execution safety."
   ]
  },
  {
   "cell_type": "markdown",
   "id": "07c4afad",
   "metadata": {},
   "source": [
    "## Creating a Custom Code Interpreter with Network Access\n",
    "\n",
    "To enable web-based operations, we'll create a custom Code Interpreter with public network access. This demonstrates the flexibility of the AgentCore platform for different use cases.\n",
    "\n",
    "### Step 1: Initialize AgentCore Clients\n",
    "\n",
    "First, let's set up the necessary clients for both control plane and data plane operations:"
   ]
  },
  {
   "cell_type": "code",
   "execution_count": 3,
   "id": "3fd12056",
   "metadata": {},
   "outputs": [],
   "source": [
    "from bedrock_agentcore._utils import endpoints\n",
    "import boto3\n",
    "import json\n",
    "\n",
    "region = boto3.session.Session().region_name\n",
    "\n",
    "data_plane_endpoint = endpoints.get_data_plane_endpoint(region)\n",
    "control_plane_endpoint = endpoints.get_control_plane_endpoint(region)\n",
    "\n",
    "cp_client = boto3.client(\"bedrock-agentcore-control\", \n",
    "                        region_name=region,\n",
    "                        endpoint_url=control_plane_endpoint)\n",
    "\n",
    "dp_client = boto3.client(\"bedrock-agentcore\", \n",
    "                        region_name=region,\n",
    "                        endpoint_url=data_plane_endpoint)"
   ]
  },
  {
   "cell_type": "markdown",
   "id": "b6f1aa41",
   "metadata": {},
   "source": [
    "### Step 2: Create Custom Code Interpreter\n",
    "\n",
    "Create a custom Code Interpreter with public network access:"
   ]
  },
  {
   "cell_type": "code",
   "execution_count": null,
   "id": "86a83c65",
   "metadata": {},
   "outputs": [],
   "source": [
    "from botocore.exceptions import ClientError\n",
    "\n",
    "interpreter_name = \"SampleCodeInterpreter\"\n",
    "\n",
    "# Create code interpreter\n",
    "try:\n",
    "    interpreter_response = cp_client.create_code_interpreter(\n",
    "        name=interpreter_name,\n",
    "        description=\"Environment for Code Interpreter sample test\",\n",
    "        #executionRoleArn=iam_role_arn, #Required only if the code interpreter need to access AWS resources\n",
    "        networkConfiguration={\n",
    "            'networkMode': 'PUBLIC'\n",
    "        }\n",
    "    )\n",
    "    interpreter_id = interpreter_response[\"codeInterpreterId\"]\n",
    "    print(f\"Created interpreter: {interpreter_id}\")\n",
    "except ClientError as e:\n",
    "    print(f\"ERROR: {e}\")\n",
    "    if \"already exists\" in str(e):\n",
    "        # If code interpreter already exists, retrieve its ID\n",
    "        for items in cp_client.list_code_interpreters()['codeInterpreterSummaries']:\n",
    "            if items['name'] == interpreter_name:\n",
    "                interpreter_id = items['codeInterpreterId']\n",
    "                print(f\"Code Interpreter ID: {interpreter_id}\")\n",
    "                break\n",
    "except Exception as e:\n",
    "    # Show any errors during code interpreter creation\n",
    "    print(f\"ERROR: {e}\")"
   ]
  },
  {
   "cell_type": "markdown",
   "id": "2487d461",
   "metadata": {},
   "source": [
    "### Step 3: Create Code Interpreter Session\n",
    "\n",
    "Create a code interpreter session in the custom Code Interpreter:"
   ]
  },
  {
   "cell_type": "code",
   "execution_count": null,
   "id": "8b50ba74",
   "metadata": {},
   "outputs": [],
   "source": [
    "from botocore.exceptions import ClientError\n",
    "\n",
    "session_name = \"SampleCodeInterpreterSession\"\n",
    "\n",
    "# Create code interpreter session\n",
    "session_response = dp_client.start_code_interpreter_session(\n",
    "    codeInterpreterIdentifier=interpreter_id,\n",
    "    name=session_name,\n",
    "    sessionTimeoutSeconds=900\n",
    ")\n",
    "session_id = session_response[\"sessionId\"]\n",
    "print(f\"Created session: {session_id}\")"
   ]
  },
  {
   "cell_type": "markdown",
   "id": "08a1f2af",
   "metadata": {},
   "source": [
    "### Step 4: Test Basic Functionality\n",
    "\n",
    "Let's verify if the code interpreter session can access the internet by installing the Yahoo Finance Python package with pip and using the package to retrieve Amazon stock price today:"
   ]
  },
  {
   "cell_type": "code",
   "execution_count": null,
   "id": "77e593d0",
   "metadata": {},
   "outputs": [],
   "source": [
    "response = dp_client.invoke_code_interpreter(\n",
    "    codeInterpreterIdentifier=interpreter_id,\n",
    "    sessionId=session_id,\n",
    "    name=\"executeCommand\",\n",
    "    arguments={\n",
    "        'command': \"pip install yfinance\"\n",
    "    }\n",
    ")\n",
    "response = dp_client.invoke_code_interpreter(\n",
    "    codeInterpreterIdentifier=interpreter_id,\n",
    "    sessionId=session_id,\n",
    "    name=\"executeCode\",\n",
    "    arguments={\"code\": \"\"\"\n",
    "        import yfinance as yf\n",
    "               \n",
    "        amzn = yf.Ticker('AMZN')\n",
    "        data = amzn.history(period='1d')\n",
    "        today_close = data['Close'][-1]\n",
    "        print(today_close)\n",
    "        \"\"\",\n",
    "        \"language\": \"python\",\n",
    "        \"clearContext\": False\n",
    "    }\n",
    ")\n",
    "for event in response[\"stream\"]:\n",
    "    print(json.dumps(event[\"result\"], indent=2))"
   ]
  },
  {
   "cell_type": "markdown",
   "id": "a23fb634",
   "metadata": {},
   "source": [
    "## Using Custom Code Interpreter with Strands Agent\n",
    "\n",
    "Now we'll integrate the custom Code Interpreter with internet access into Strands Agent. We'll create custom `execute_python` and `execute_command` tools that share the same code interpreter session for enhanced functionality."
   ]
  },
  {
   "cell_type": "code",
   "execution_count": null,
   "id": "fcc6345b",
   "metadata": {},
   "outputs": [],
   "source": [
    "from strands import Agent, tool\n",
    "from strands.models import BedrockModel\n",
    "from bedrock_agentcore.tools.code_interpreter_client import CodeInterpreter\n",
    "import boto3\n",
    "\n",
    "#Reuse the Core Interpreter and Session created above\n",
    "ci_client = CodeInterpreter(region=boto3.session.Session().region_name)\n",
    "ci_client.start(identifier=interpreter_id) #initializes a new code interpreter session\n",
    "\n",
    "@tool\n",
    "def execute_python(code: str, description: str = \"\") -> str:\n",
    "    \"\"\"Execute Python code in the sandbox.\"\"\"\n",
    "    \n",
    "    print(f\"\\n Generated Code: {code}\")\n",
    "    response = ci_client.invoke(\"executeCode\", {\n",
    "        \"code\": code,\n",
    "        \"language\": \"python\",\n",
    "        \"clearContext\": False\n",
    "    })\n",
    "        \n",
    "    for event in response[\"stream\"]:\n",
    "        return json.dumps(event[\"result\"])\n",
    "\n",
    "@tool\n",
    "def execute_command(command: str, description: str = \"\") -> str:\n",
    "    \"\"\"Execute command in the sandbox.\"\"\"\n",
    "    \n",
    "    print(f\"\\n Generated Command: {command}\")\n",
    "    response = ci_client.invoke(\"executeCommand\", {\n",
    "        \"command\": command\n",
    "    })\n",
    "    \n",
    "    for event in response[\"stream\"]:\n",
    "        return json.dumps(event[\"result\"])\n",
    "    \n",
    "\n",
    "# Create a code gen agent\n",
    "agent = Agent(\n",
    "    model=BedrockModel(model_id=\"us.amazon.nova-pro-v1:0\"),\n",
    "    system_prompt=\"\"\"You are a helpful AI assistant that validates all answers through code execution.\n",
    "                  If you has no available tools to perform the task, you must generate and execute code to continue. \n",
    "                  If required, execute pip install to download required packages.\n",
    "                  \"\"\",\n",
    "    tools=[execute_python, execute_command],\n",
    ")\n",
    "\n",
    "agent(\"What is the stock price of Amazon today?\")\n",
    "\n",
    "ci_client.stop() #stop the current code interpreter session"
   ]
  },
  {
   "cell_type": "markdown",
   "id": "69124c10",
   "metadata": {},
   "source": [
    "Let's examine the detailed execution flow of the agent loop to understand how the agent processes requests and generates responses:"
   ]
  },
  {
   "cell_type": "code",
   "execution_count": null,
   "id": "740f8371",
   "metadata": {},
   "outputs": [],
   "source": [
    "from rich.table import Table\n",
    "import rich\n",
    "import json\n",
    "\n",
    "console = rich.get_console()\n",
    "\n",
    "console.print(\"Agent Loop Detail\")\n",
    "console.rule()\n",
    "console.print(f\"Number of Loops: {agent.event_loop_metrics.cycle_count}\")\n",
    "\n",
    "table = Table(title=\"Agent Messages\", show_lines=True)\n",
    "table.add_column(\"Role\", style=\"green\")\n",
    "table.add_column(\"Text\", style=\"magenta\")\n",
    "table.add_column(\"Tool Name\", style=\"cyan\")\n",
    "table.add_column(\"Tool Input\", style=\"cyan\")\n",
    "table.add_column(\"Tool Result\", style=\"cyan\")\n",
    "\n",
    "for message in agent.messages:\n",
    "    text = [content[\"text\"] for content in message[\"content\"] if \"text\" in content]\n",
    "    tool_name = [content[\"toolUse\"][\"name\"] for content in message[\"content\"] if \"toolUse\" in content]\n",
    "    tool_input = [content[\"toolUse\"][\"input\"] for content in message[\"content\"] if \"toolUse\" in content]\n",
    "    tool_result = [content[\"toolResult\"][\"content\"][0] for content in message[\"content\"] if \"toolResult\" in content]\n",
    "    table.add_row(message[\"role\"], text[-1] if text else \"\", \n",
    "                  tool_name[-1] if tool_name else \"\", \n",
    "                  json.dumps(tool_input[-1], indent=2) if tool_input else \"\", \n",
    "                  (json.dumps(tool_result[-1], indent=2)[:500]+\"\\n.\\n.\\n.\" if len(str(tool_result[-1])) > 500 else json.dumps(tool_result[-1], indent=2)) if tool_result else \"\")\n",
    "\n",
    "console.print(table)"
   ]
  },
  {
   "cell_type": "markdown",
   "id": "c1f00dfd",
   "metadata": {},
   "source": [
    "## Resource Cleanup (Optional)\n",
    "\n",
    "Clean up the AgentCore Runtime resources we created to avoid unnecessary charges:"
   ]
  },
  {
   "cell_type": "code",
   "execution_count": null,
   "id": "3de64d83",
   "metadata": {},
   "outputs": [],
   "source": [
    "import boto3\n",
    "\n",
    "cp_client = boto3.client(\"bedrock-agentcore-control\", region_name=region, endpoint_url=control_plane_endpoint)\n",
    "dp_client = boto3.client(\"bedrock-agentcore\", region_name=region, endpoint_url=data_plane_endpoint)\n",
    "\n",
    "try:\n",
    "    print(\"Cleaning up session and interpreter...\")\n",
    "    dp_client.stop_code_interpreter_session(\n",
    "        codeInterpreterIdentifier=interpreter_id,\n",
    "        sessionId=session_id\n",
    "    )\n",
    "    print(\"✓ Session stopped successfully\")\n",
    "\n",
    "    cp_client.delete_code_interpreter(codeInterpreterId=interpreter_id)\n",
    "    print(\"✓ Interpreter deleted successfully\")\n",
    "except Exception as e:\n",
    "    print(f\"❌ Error during cleanup: {e}\")\n",
    "    print(\"You may need to manually clean up some resources.\")"
   ]
  },
  {
   "cell_type": "markdown",
   "id": "5f7af5ba",
   "metadata": {},
   "source": [
    "## Conclusion\n",
    "\n",
    "In this lab, you successfully:\n",
    "\n",
    "- ✅ Tested default Bedrock AgentCore Code Interpreter functionality\n",
    "- ✅ Created a custom Code Interpreter with network access capabilities\n",
    "- ✅ Integrated Code Interpreter with Strands Agents for dynamic Python execution\n",
    "- ✅ Executed complex tasks including data analysis, web requests, and file operations\n",
    "\n",
    "## Key Benefits of AgentCore Code Interpreter\n",
    "\n",
    "- **Dynamic Code Execution**: Run Python code on-demand within AI agent workflows\n",
    "- **Secure Sandbox Environment**: Isolated execution with configurable network access\n",
    "- **Session State Management**: Maintain variables and context across multiple executions\n",
    "- **Seamless Agent Integration**: Works as a native tool within Strands Agents\n",
    "- **Flexible Configuration**: Customize interpreters for specific use cases and requirements"
   ]
  }
 ],
 "metadata": {
  "kernelspec": {
   "display_name": ".venv",
   "language": "python",
   "name": "python3"
  },
  "language_info": {
   "codemirror_mode": {
    "name": "ipython",
    "version": 3
   },
   "file_extension": ".py",
   "mimetype": "text/x-python",
   "name": "python",
   "nbconvert_exporter": "python",
   "pygments_lexer": "ipython3",
   "version": "3.12.11"
  }
 },
 "nbformat": 4,
 "nbformat_minor": 5
}
