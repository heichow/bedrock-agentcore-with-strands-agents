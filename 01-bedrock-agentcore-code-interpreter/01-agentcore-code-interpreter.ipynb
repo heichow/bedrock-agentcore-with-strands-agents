{
 "cells": [
  {
   "cell_type": "markdown",
   "id": "main-title",
   "metadata": {},
   "source": [
    "# Strands Agents with Bedrock AgentCore Code Interpreter\n",
    "\n",
    "This workshop demonstrates how to integrate Strands Agents with Amazon Bedrock AgentCore Code Interpreter to create AI agents capable of executing code dynamically.\n",
    "\n",
    "## Overview\n",
    "\n",
    "In this lab, you will:\n",
    "- Learn about Bedrock AgentCore Code Interpreter capabilities\n",
    "- Test the default Code Interpreter with Strands Agents\n",
    "- Create a custom Code Interpreter with public network access\n",
    "- Compare different execution environments and their limitations"
   ]
  },
  {
   "cell_type": "markdown",
   "id": "09619786",
   "metadata": {},
   "source": [
    "## Prerequisites\n",
    "\n",
    "Before starting this lab, ensure you have:\n",
    "- AWS credentials configured (IAM role or environment variables)\n",
    "- Required Python packages installed\n",
    "- Basic understanding of Strands Agents and Bedrock AgentCore concepts\n",
    "\n",
    "If you're not running in an environment with an IAM role assumed, set your AWS credentials as environment variables:"
   ]
  },
  {
   "cell_type": "code",
   "execution_count": null,
   "id": "a8111f9e",
   "metadata": {},
   "outputs": [],
   "source": [
    "import os\n",
    "\n",
    "#os.environ[\"AWS_ACCESS_KEY_ID\"]=<YOUR ACCESS KEY>\n",
    "#os.environ[\"AWS_SECRET_ACCESS_KEY\"]=<YOUR SECRET KEY>\n",
    "#os.environ[\"AWS_SESSION_TOKEN\"]=<OPTIONAL - YOUR SESSION TOKEN IF TEMP CREDENTIAL>\n",
    "#os.environ[\"AWS_REGION\"]=<AWS REGION WITH BEDROCK AGENTCORE AVAILABLE>"
   ]
  },
  {
   "cell_type": "markdown",
   "id": "cd4c88bd",
   "metadata": {},
   "source": [
    "Install required packages for Strands Agents and Bedrock AgentCore Python SDK:"
   ]
  },
  {
   "cell_type": "code",
   "execution_count": null,
   "id": "73c848d4",
   "metadata": {},
   "outputs": [],
   "source": [
    "%pip install -q strands-agents strands-agents-tools bedrock-agentcore"
   ]
  },
  {
   "cell_type": "markdown",
   "id": "c131d5a7",
   "metadata": {},
   "source": [
    "## What is Bedrock AgentCore Code Interpreter?\n",
    "\n",
    "Amazon Bedrock AgentCore Code Interpreter is a powerful tool that allows AI agents to execute code dynamically in a secure sandbox environment. Key benefits include:\n",
    "\n",
    "- **Secure Execution**: Runs Python code in an isolated sandbox environment\n",
    "- **Dynamic Problem Solving**: Enables agents to perform calculations, analyze data, and generate visualizations\n",
    "- **Flexible Configuration**: Supports both default sandboxed and custom network-enabled environments\n",
    "- **Integration Ready**: Seamlessly integrates with Strands Agents and other AI frameworks\n",
    "\n",
    "The Code Interpreter provides agents with the ability to solve complex problems that require computational analysis, data processing, or mathematical calculations."
   ]
  },
  {
   "cell_type": "markdown",
   "id": "e65876db",
   "metadata": {},
   "source": [
    "### Testing Strands Agent with Default Code Interpreter\n",
    "\n",
    "Let's start by testing the Strands Agent using the default AgentCore Code Interpreter. We'll demonstrate how it can generate and execute code to solve mathematical problems in a sandboxed environment."
   ]
  },
  {
   "cell_type": "code",
   "execution_count": null,
   "id": "69fefd8b",
   "metadata": {},
   "outputs": [],
   "source": [
    "from strands import Agent\n",
    "from strands_tools.code_interpreter import AgentCoreCodeInterpreter\n",
    "\n",
    "agentcore_code_interpreter = AgentCoreCodeInterpreter()\n",
    "\n",
    "# Create a code-gen assistant agent\n",
    "agent = Agent(\n",
    "    model=\"us.amazon.nova-pro-v1:0\", \n",
    "    system_prompt=\"\"\"You are a helpful AI assistant that validates all answers through code execution.\"\"\",\n",
    "    tools=[agentcore_code_interpreter.code_interpreter],\n",
    ")\n",
    "\n",
    "agent(\"Tell me the largest random prime number between 1 and 100, which is less than 84 and more that 9\")"
   ]
  },
  {
   "cell_type": "markdown",
   "id": "be6f0bcc",
   "metadata": {},
   "source": [
    "Let's examine the detailed execution flow of the agent loop to understand how the agent processes requests and generates responses:"
   ]
  },
  {
   "cell_type": "code",
   "execution_count": null,
   "id": "999c9fd8",
   "metadata": {},
   "outputs": [],
   "source": [
    "print(\"Agent Loop Detail\")\n",
    "print(\"-----------------\")\n",
    "\n",
    "print(f\"Agent Loop Length: {len(agent.messages)})\")\n",
    "print(\"\\nUser-Assistant Conversation:\")\n",
    "for message in agent.messages:\n",
    "    print(message)\n",
    "\n",
    "for message in agent.messages:\n",
    "    for content in message['content']:\n",
    "        if 'toolUse' in content and content['toolUse']['input']['code_interpreter_input']['action']['type']=='executeCode':\n",
    "            code = content['toolUse']['input']['code_interpreter_input']['action']['code']\n",
    "            print(\"\\nGenerated Code\")\n",
    "            print(\"--------------\")\n",
    "            print(code)"
   ]
  },
  {
   "cell_type": "markdown",
   "id": "5b132442",
   "metadata": {},
   "source": [
    "### Testing Network Limitations in Default Environment\n",
    "\n",
    "Now let's test the network capabilities of the default Code Interpreter by attempting a web search scenario. This will demonstrate the sandbox limitations:"
   ]
  },
  {
   "cell_type": "code",
   "execution_count": null,
   "id": "3251c309",
   "metadata": {},
   "outputs": [],
   "source": [
    "# Create a recipe assistant agent\n",
    "agent = Agent(\n",
    "    model=\"us.amazon.nova-pro-v1:0\", \n",
    "    system_prompt=\"\"\"You are a helpful AI assistant that validates all answers through code execution.\n",
    "                  If you has no available tools to perform the task, you must generate and execute code to continue. \n",
    "                  If required, execute pip install to download required packages.\n",
    "                  \"\"\",\n",
    "    tools=[agentcore_code_interpreter.code_interpreter],\n",
    ")\n",
    "\n",
    "agent(\"What is the stock price of Amazon today?\")"
   ]
  },
  {
   "cell_type": "markdown",
   "id": "c5f86970",
   "metadata": {},
   "source": [
    "Let's examine the detailed execution flow for the web search scenario:"
   ]
  },
  {
   "cell_type": "code",
   "execution_count": null,
   "id": "e819ee2a",
   "metadata": {},
   "outputs": [],
   "source": [
    "print(\"Agent Loop Detail\")\n",
    "print(\"-----------------\")\n",
    "\n",
    "print(f\"Agent Loop Length: {len(agent.messages)})\")\n",
    "print(\"\\nUser-Assistant Conversation:\")\n",
    "for message in agent.messages:\n",
    "    print(message)\n",
    "\n",
    "for message in agent.messages:\n",
    "    for content in message['content']:\n",
    "        if 'toolUse' in content and content['toolUse']['input']['code_interpreter_input']['action']['type']=='executeCode':\n",
    "            code = content['toolUse']['input']['code_interpreter_input']['action']['code']\n",
    "            print(\"\\nGenerated Code\")\n",
    "            print(\"--------------\")\n",
    "            print(code)"
   ]
  },
  {
   "cell_type": "markdown",
   "id": "12d4ebfa",
   "metadata": {},
   "source": [
    "### Understanding Sandbox Environment Limitations\n",
    "\n",
    "The above web search scenario demonstrates that the default Code Interpreter operates in a sandbox environment with network isolation. This is an important security feature that prevents unauthorized network access while ensuring code execution safety."
   ]
  },
  {
   "cell_type": "markdown",
   "id": "07c4afad",
   "metadata": {},
   "source": [
    "## Creating a Custom Code Interpreter with Network Access\n",
    "\n",
    "To enable web-based operations, we'll create a custom Code Interpreter with public network access. This demonstrates the flexibility of the AgentCore platform for different use cases.\n",
    "\n",
    "### Step 1: Initialize AgentCore Clients\n",
    "\n",
    "First, let's set up the necessary clients for both control plane and data plane operations:"
   ]
  },
  {
   "cell_type": "code",
   "execution_count": null,
   "id": "3fd12056",
   "metadata": {},
   "outputs": [],
   "source": [
    "from bedrock_agentcore._utils import endpoints\n",
    "import boto3\n",
    "import json\n",
    "\n",
    "region = boto3.session.Session().region_name\n",
    "\n",
    "data_plane_endpoint = endpoints.get_data_plane_endpoint(region)\n",
    "control_plane_endpoint = endpoints.get_control_plane_endpoint(region)\n",
    "\n",
    "cp_client = boto3.client(\"bedrock-agentcore-control\", \n",
    "                        region_name=region,\n",
    "                        endpoint_url=control_plane_endpoint)\n",
    "\n",
    "dp_client = boto3.client(\"bedrock-agentcore\", \n",
    "                        region_name=region,\n",
    "                        endpoint_url=data_plane_endpoint)"
   ]
  },
  {
   "cell_type": "markdown",
   "id": "b6f1aa41",
   "metadata": {},
   "source": [
    "### Step 2: Create Custom Code Interpreter\n",
    "\n",
    "Create a custom Code Interpreter with public network access:"
   ]
  },
  {
   "cell_type": "code",
   "execution_count": null,
   "id": "86a83c65",
   "metadata": {},
   "outputs": [],
   "source": [
    "import uuid\n",
    "\n",
    "# Create code interpreter\n",
    "unique_name = f\"sampleCodeInterpreter_{uuid.uuid4().hex[:8]}\"\n",
    "interpreter_response = cp_client.create_code_interpreter(\n",
    "    name=unique_name,\n",
    "    description=\"Environment for Code Interpreter sample test\",\n",
    "    #executionRoleArn=iam_role_arn, #Required only if the code interpreter need to access AWS resources\n",
    "    networkConfiguration={\n",
    "        'networkMode': 'PUBLIC'\n",
    "    }\n",
    ")\n",
    "interpreter_id = interpreter_response[\"codeInterpreterId\"]\n",
    "print(f\"Created interpreter: {interpreter_id}\")"
   ]
  },
  {
   "cell_type": "markdown",
   "id": "2487d461",
   "metadata": {},
   "source": [
    "### Step 3: Create Code Interpreter Session\n",
    "\n",
    "Create a code interpreter session in the custom Code Interpreter:"
   ]
  },
  {
   "cell_type": "code",
   "execution_count": null,
   "id": "8b50ba74",
   "metadata": {},
   "outputs": [],
   "source": [
    "# Create code interpreter session\n",
    "session_response = dp_client.start_code_interpreter_session(\n",
    "    codeInterpreterIdentifier=interpreter_id,\n",
    "    name=\"sampleCodeInterpreterSession\",\n",
    "    sessionTimeoutSeconds=900\n",
    ")\n",
    "session_id = session_response[\"sessionId\"]\n",
    "print(f\"Created session: {session_id}\")"
   ]
  },
  {
   "cell_type": "markdown",
   "id": "08a1f2af",
   "metadata": {},
   "source": [
    "### Step 4: Test Basic Functionality\n",
    "\n",
    "Let's test the code interpreter session by executing a simple \"Hello World\" command:"
   ]
  },
  {
   "cell_type": "code",
   "execution_count": null,
   "id": "a14041af",
   "metadata": {},
   "outputs": [],
   "source": [
    "response = dp_client.invoke_code_interpreter(\n",
    "    codeInterpreterIdentifier=interpreter_id,\n",
    "    sessionId=session_id,\n",
    "    name=\"executeCommand\",\n",
    "    arguments={\n",
    "        'command': \"echo 'Hello World'\"\n",
    "    }\n",
    ")\n",
    "for event in response[\"stream\"]:\n",
    "    print(json.dumps(event[\"result\"], indent=2))"
   ]
  },
  {
   "cell_type": "markdown",
   "id": "415fec31",
   "metadata": {},
   "source": [
    "Let's verify if the code interpreter session can access the internet by installing the DuckDuckGo Python package with pip:"
   ]
  },
  {
   "cell_type": "code",
   "execution_count": null,
   "id": "77e593d0",
   "metadata": {},
   "outputs": [],
   "source": [
    "response = dp_client.invoke_code_interpreter(\n",
    "    codeInterpreterIdentifier=interpreter_id,\n",
    "    sessionId=session_id,\n",
    "    name=\"executeCommand\",\n",
    "    arguments={\n",
    "        'command': \"pip install yfinance\"\n",
    "    }\n",
    ")\n",
    "for event in response[\"stream\"]:\n",
    "    print(json.dumps(event[\"result\"], indent=2))"
   ]
  },
  {
   "cell_type": "markdown",
   "id": "ae8a523f",
   "metadata": {},
   "source": [
    "Let's execute Python code to use DuckDuckGo for web search with the keyword \"coffee maker amazon.com\" in the code interpreter session:"
   ]
  },
  {
   "cell_type": "code",
   "execution_count": null,
   "id": "967ed315",
   "metadata": {},
   "outputs": [],
   "source": [
    "response = dp_client.invoke_code_interpreter(\n",
    "    codeInterpreterIdentifier=interpreter_id,\n",
    "    sessionId=session_id,\n",
    "    name=\"executeCode\",\n",
    "    arguments={\"code\": \"\"\"\n",
    "        import yfinance as yf\n",
    "               \n",
    "        amzn = yf.Ticker('AMZN')\n",
    "        data = amzn.history(period='1d')\n",
    "        today_close = data['Close'][-1]\n",
    "        print(today_close)\n",
    "        \"\"\",\n",
    "        \"language\": \"python\",\n",
    "        \"clearContext\": False\n",
    "    }\n",
    ")\n",
    "for event in response[\"stream\"]:\n",
    "    print(json.dumps(event[\"result\"], indent=2))"
   ]
  },
  {
   "cell_type": "markdown",
   "id": "a23fb634",
   "metadata": {},
   "source": [
    "## Using Custom Code Interpreter with Strands Agent\n",
    "\n",
    "Now we'll integrate the custom Code Interpreter with internet access into Strands Agent. We'll create custom `execute_python` and `execute_command` tools that share the same code interpreter session for enhanced functionality."
   ]
  },
  {
   "cell_type": "code",
   "execution_count": null,
   "id": "fcc6345b",
   "metadata": {},
   "outputs": [],
   "source": [
    "from strands import Agent, tool\n",
    "from bedrock_agentcore.tools.code_interpreter_client import CodeInterpreter\n",
    "import boto3\n",
    "\n",
    "#Reuse the Core Interpreter and Session created above\n",
    "ci_client = CodeInterpreter(region=boto3.session.Session().region_name)\n",
    "ci_client.start(identifier=interpreter_id) #initializes a new code interpreter session\n",
    "\n",
    "@tool\n",
    "def execute_python(code: str, description: str = \"\") -> str:\n",
    "    \"\"\"Execute Python code in the sandbox.\"\"\"\n",
    "    \n",
    "    print(f\"\\n Generated Code: {code}\")\n",
    "    response = ci_client.invoke(\"executeCode\", {\n",
    "        \"code\": code,\n",
    "        \"language\": \"python\",\n",
    "        \"clearContext\": False\n",
    "    })\n",
    "        \n",
    "    for event in response[\"stream\"]:\n",
    "        return json.dumps(event[\"result\"])\n",
    "\n",
    "@tool\n",
    "def execute_command(command: str, description: str = \"\") -> str:\n",
    "    \"\"\"Execute command in the sandbox.\"\"\"\n",
    "    \n",
    "    print(f\"\\n Generated Command: {command}\")\n",
    "    response = ci_client.invoke(\"executeCommand\", {\n",
    "        \"command\": command\n",
    "    })\n",
    "    \n",
    "    for event in response[\"stream\"]:\n",
    "        return json.dumps(event[\"result\"])\n",
    "    \n",
    "\n",
    "# Create a code gen agent\n",
    "agent = Agent(\n",
    "    model=\"us.amazon.nova-pro-v1:0\", \n",
    "    system_prompt=\"\"\"You are a helpful AI assistant that validates all answers through code execution.\n",
    "                  If you has no available tools to perform the task, you must generate and execute code to continue. \n",
    "                  If required, execute pip install to download required packages.\n",
    "                  \"\"\",\n",
    "    tools=[execute_python, execute_command],\n",
    ")\n",
    "\n",
    "agent(\"What is the stock price of Amazon today?\")\n",
    "\n",
    "ci_client.stop() #stop the current code interpreter session"
   ]
  },
  {
   "cell_type": "markdown",
   "id": "32caa556",
   "metadata": {},
   "source": [
    "Let's examine the detailed execution flow for the custom tools scenario:"
   ]
  },
  {
   "cell_type": "code",
   "execution_count": null,
   "id": "f95c8a51",
   "metadata": {},
   "outputs": [],
   "source": [
    "print(\"Agent Loop Detail\")\n",
    "print(\"-----------------\")\n",
    "\n",
    "print(f\"Agent Loop Length: {len(agent.messages)})\")\n",
    "print(\"\\nUser-Assistant Conversation:\")\n",
    "for message in agent.messages:\n",
    "    print(message)"
   ]
  },
  {
   "cell_type": "markdown",
   "id": "c1f00dfd",
   "metadata": {},
   "source": [
    "## Resource Cleanup (Optional)\n",
    "\n",
    "Clean up the AgentCore Runtime resources we created to avoid unnecessary charges:"
   ]
  },
  {
   "cell_type": "code",
   "execution_count": null,
   "id": "3de64d83",
   "metadata": {},
   "outputs": [],
   "source": [
    "import boto3\n",
    "\n",
    "cp_client = boto3.client(\"bedrock-agentcore-control\", region_name=region, endpoint_url=control_plane_endpoint)\n",
    "dp_client = boto3.client(\"bedrock-agentcore\", region_name=region, endpoint_url=data_plane_endpoint)\n",
    "\n",
    "try:\n",
    "    print(\"Cleaning up session and interpreter...\")\n",
    "    dp_client.stop_code_interpreter_session(\n",
    "        codeInterpreterIdentifier=interpreter_id,\n",
    "        sessionId=session_id\n",
    "    )\n",
    "    print(\"✓ Session stopped successfully\")\n",
    "\n",
    "    cp_client.delete_code_interpreter(codeInterpreterId=interpreter_id)\n",
    "    print(\"✓ Interpreter deleted successfully\")\n",
    "except Exception as e:\n",
    "    print(f\"❌ Error during cleanup: {e}\")\n",
    "    print(\"You may need to manually clean up some resources.\")"
   ]
  }
 ],
 "metadata": {
  "kernelspec": {
   "display_name": "bedrock-agentcore-workshop",
   "language": "python",
   "name": "python3"
  },
  "language_info": {
   "codemirror_mode": {
    "name": "ipython",
    "version": 3
   },
   "file_extension": ".py",
   "mimetype": "text/x-python",
   "name": "python",
   "nbconvert_exporter": "python",
   "pygments_lexer": "ipython3",
   "version": "3.12.11"
  }
 },
 "nbformat": 4,
 "nbformat_minor": 5
}
