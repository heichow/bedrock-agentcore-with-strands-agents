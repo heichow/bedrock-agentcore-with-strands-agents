{
 "cells": [
  {
   "cell_type": "markdown",
   "id": "main-title",
   "metadata": {},
   "source": [
    "# Strands Agents with Bedrock AgentCore Browser\n",
    "\n",
    "This workshop demonstrates how to integrate Strands Agents with Amazon Bedrock AgentCore Browser to create AI agents capable of interacting with web browsers dynamically.\n",
    "\n",
    "## Overview\n",
    "\n",
    "In this lab, you will:\n",
    "\n",
    "- Learn about Bedrock AgentCore Browser capabilities\n",
    "- Test browser automation with Strands Agents\n",
    "- Navigate websites and extract information programmatically\n",
    "- Explore common use cases for browser automation\n",
    "- Understand best practices for web interaction\n"
   ]
  },
  {
   "cell_type": "markdown",
   "id": "09619786",
   "metadata": {},
   "source": [
    "## Prerequisites\n",
    "\n",
    "Before starting this lab, ensure you have:\n",
    "\n",
    "- AWS credentials configured (IAM role or environment variables)\n",
    "- Required Python packages installed\n",
    "- Basic understanding of Strands Agents and Bedrock AgentCore concepts\n",
    "\n",
    "If you're not running in an environment with an IAM role assumed, set your AWS credentials as environment variables:\n"
   ]
  },
  {
   "cell_type": "code",
   "execution_count": null,
   "id": "d2a7cb43",
   "metadata": {},
   "outputs": [],
   "source": [
    "# %env AWS_REGION=<Bedrock AgentCore Region>\n",
    "# %env AWS_ACCESS_KEY_ID=<YOUR ACCESS KEY>\n",
    "# %env AWS_SECRET_ACCESS_KEY=<YOUR SECRET KEY>\n",
    "# %env AWS_SESSION_TOKEN=<OPTIONAL - YOUR SESSION TOKEN IF TEMP CREDENTIAL>\n",
    "# %env AWS_PROFILE=<OPTIONAL - Your profile configured in ~/.aws/config>"
   ]
  },
  {
   "cell_type": "markdown",
   "id": "cd4c88bd",
   "metadata": {},
   "source": [
    "Install required packages for Strands Agents, Playwright and Bedrock AgentCore Python SDK:\n"
   ]
  },
  {
   "cell_type": "code",
   "execution_count": null,
   "id": "73c848d4",
   "metadata": {},
   "outputs": [],
   "source": [
    "#%pip install -q strands-agents 'strands-agents-tools[agent_core_browser]' bedrock-agentcore playwright rich"
   ]
  },
  {
   "cell_type": "markdown",
   "id": "c131d5a7",
   "metadata": {},
   "source": [
    "## What is Bedrock AgentCore Browser?\n",
    "\n",
    "Amazon Bedrock AgentCore Browser is a powerful tool that enables AI agents to interact with web browsers dynamically in a secure, managed environment. Key capabilities include:\n",
    "\n",
    "- **Web Navigation**: Navigate to websites, click elements, and fill forms programmatically\n",
    "- **Content Extraction**: Extract information from web pages and capture screenshots\n",
    "- **Secure Environment**: Runs in an isolated, secure browser environment\n",
    "- **JavaScript Execution**: Execute custom JavaScript for advanced web interactions\n",
    "- **Session Management**: Maintain browser sessions across multiple operations\n",
    "\n",
    "The Browser tool enables agents to perform complex web-based tasks that require visual understanding and interactive capabilities.\n"
   ]
  },
  {
   "cell_type": "markdown",
   "id": "642be7f6",
   "metadata": {},
   "source": [
    "### Accessing Browser Session\n",
    "\n",
    "First let's explore the AgentCore Browser tool without any agentic environment.  We will use the Playwright library to connect to the remote browser session.\n",
    "\n",
    "Once connected, we can start interacting with the page elements as if it's a real user.  \n"
   ]
  },
  {
   "cell_type": "code",
   "execution_count": null,
   "id": "d2c0dfbb",
   "metadata": {},
   "outputs": [],
   "source": [
    "import boto3\n",
    "import rich\n",
    "from bedrock_agentcore.tools.browser_client import browser_session\n",
    "from playwright.async_api import async_playwright\n",
    "from IPython.display import display_jpeg\n",
    "\n",
    "console = rich.get_console()\n",
    "region = boto3.Session().region_name or \"us-east-1\"\n",
    "\n",
    "with browser_session(region) as client:\n",
    "    console.print(f\"🌐 Using AgentCore Browser Session: {client.session_id}\", style=\"cyan\")\n",
    "    ws_url, headers = client.generate_ws_headers()\n",
    "\n",
    "    async with async_playwright() as playwright:\n",
    "        chromium = playwright.chromium\n",
    "        browser = await chromium.connect_over_cdp(endpoint_url=ws_url, headers=headers)\n",
    "        console.print(\"[green]✅ Browser connected.[/green]\")\n",
    "\n",
    "        context = browser.contexts[0] if browser.contexts else await browser.new_context()\n",
    "        page = context.pages[0] if context.pages else await context.new_page()\n",
    "\n",
    "        console.print(\"[cyan]🔄 Navigating to AWS Builder Center[/cyan]\")\n",
    "        await page.goto(\"https://builder.aws.com/\")\n",
    "        display_jpeg(await page.screenshot(), raw=True)\n",
    "\n",
    "        console.print(\"[cyan]🔄 Clicking on the first article in the spotlight[/cyan]\")\n",
    "        await page.click(\".swiper-wrapper div a\")\n",
    "        await page.wait_for_load_state(\"load\")\n",
    "        display_jpeg(await page.screenshot(), raw=True)\n"
   ]
  },
  {
   "cell_type": "markdown",
   "id": "e65876db",
   "metadata": {},
   "source": [
    "### Testing Strands Agent with Browser Automation\n",
    "\n",
    "Let's demonstrate the Strands Agent using AgentCore Browser for web automation. We'll navigate to Amazon, search for coffee makers, and extract detailed product information from the first result.\n"
   ]
  },
  {
   "cell_type": "code",
   "execution_count": null,
   "id": "bdb2910f",
   "metadata": {},
   "outputs": [],
   "source": [
    "import boto3\n",
    "import rich\n",
    "from strands import Agent\n",
    "from strands.models import BedrockModel\n",
    "from strands_tools.browser import AgentCoreBrowser\n",
    "\n",
    "\n",
    "console = rich.get_console()\n",
    "region = boto3.Session().region_name or \"us-east-1\"\n",
    "\n",
    "agentcore_browser = AgentCoreBrowser(region=region)\n",
    "\n",
    "agent = Agent(\n",
    "    model=BedrockModel(model_id=\"us.amazon.nova-pro-v1:0\"),\n",
    "    tools=[agentcore_browser.browser],\n",
    ")\n",
    "\n",
    "response = await agent.invoke_async(\"Go to https://builder.aws.com/learn/topics/amazon-bedrock-agentcore, once the page has loaded find the first link that goes to path starting with '/content' and click on it, once the page has loaded, retrieve the page html and summarize the article\")\n",
    "\n",
    "console.print(response.message[\"content\"][0][\"text\"] if \"text\" in response.message[\"content\"][0] else \"\")\n"
   ]
  },
  {
   "cell_type": "markdown",
   "id": "d93c3c66",
   "metadata": {},
   "source": [
    "Let's examine the detailed execution flow of the agent loop to understand how the agent processes requests and generates responses:\n"
   ]
  },
  {
   "cell_type": "code",
   "execution_count": null,
   "id": "10b2050a",
   "metadata": {},
   "outputs": [],
   "source": [
    "from rich.table import Table\n",
    "import rich\n",
    "import json\n",
    "\n",
    "console = rich.get_console()\n",
    "\n",
    "console.print(\"Agent Loop Detail\")\n",
    "console.rule()\n",
    "console.print(f\"Number of Loops: {agent.event_loop_metrics.cycle_count}\")\n",
    "\n",
    "table = Table(title=\"Agent Messages\", show_lines=True)\n",
    "table.add_column(\"Role\", style=\"green\")\n",
    "table.add_column(\"Text\", style=\"magenta\")\n",
    "table.add_column(\"Tool Name\", style=\"cyan\")\n",
    "table.add_column(\"Tool Input\", style=\"cyan\")\n",
    "table.add_column(\"Tool Result\", style=\"cyan\")\n",
    "\n",
    "for message in agent.messages:\n",
    "    text = [content[\"text\"] for content in message[\"content\"] if \"text\" in content]\n",
    "    tool_name = [content[\"toolUse\"][\"name\"] for content in message[\"content\"] if \"toolUse\" in content]\n",
    "    tool_input = [content[\"toolUse\"][\"input\"] for content in message[\"content\"] if \"toolUse\" in content]\n",
    "    tool_result = [content[\"toolResult\"][\"content\"][0] for content in message[\"content\"] if \"toolResult\" in content]\n",
    "    table.add_row(message[\"role\"], text[-1] if text else \"\", \n",
    "                  tool_name[-1] if tool_name else \"\", \n",
    "                  json.dumps(tool_input[-1], indent=2) if tool_input else \"\", \n",
    "                  (json.dumps(tool_result[-1], indent=2)[:500]+\"\\n.\\n.\\n.\" if len(str(tool_result[-1])) > 500 else json.dumps(tool_result[-1], indent=2)) if tool_result else \"\")\n",
    "\n",
    "console.print(table)"
   ]
  },
  {
   "cell_type": "markdown",
   "id": "2b60126a",
   "metadata": {},
   "source": [
    "### Cleanup Resources"
   ]
  },
  {
   "cell_type": "code",
   "execution_count": null,
   "id": "b28cc097",
   "metadata": {},
   "outputs": [],
   "source": [
    "client = boto3.client(\"bedrock-agentcore\")\n",
    "\n",
    "args = {\"browserIdentifier\": \"aws.browser.v1\", \"status\": \"READY\"}\n",
    "while True:\n",
    "    response = client.list_browser_sessions(**args)\n",
    "    for session in response[\"items\"]:\n",
    "        client.stop_browser_session(\n",
    "            browserIdentifier=args[\"browserIdentifier\"], sessionId=session[\"sessionId\"]\n",
    "        )\n",
    "\n",
    "    if \"NextToken\" in response:\n",
    "        args[\"NextToken\"] = response[\"NextToken\"]\n",
    "    else:\n",
    "        break"
   ]
  },
  {
   "cell_type": "markdown",
   "id": "07c4afad",
   "metadata": {},
   "source": [
    "## Common Use Cases for Bedrock AgentCore Browser\n",
    "\n",
    "Beyond web search, Bedrock AgentCore Browser enables a wide variety of automation scenarios:\n",
    "\n",
    "### Web Application Testing\n",
    "\n",
    "- Test web applications in a secure environment\n",
    "- Validate user interfaces and functionality\n",
    "- Perform automated quality assurance\n",
    "\n",
    "### Data Collection & Monitoring\n",
    "\n",
    "- Extract information from websites\n",
    "- Monitor website changes and updates\n",
    "- Capture screenshots and record browser sessions\n",
    "\n",
    "### Business Process Automation\n",
    "\n",
    "- Automate form submissions and data entry\n",
    "- Perform e-commerce transactions\n",
    "- Access online resources and services\n",
    "\n",
    "### AI-Powered Web Interaction\n",
    "\n",
    "- Build AI agents that can navigate the web\n",
    "- Interact with web interfaces intelligently\n",
    "- Perform web-based tasks and workflows\n",
    "\n",
    "**Additional Resources:**\n",
    "[Bedrock AgentCore Browser Use Cases Examples](https://docs.aws.amazon.com/bedrock-agentcore/latest/devguide/browser-use-cases.html#browser-use-cases-examples)\n"
   ]
  }
 ],
 "metadata": {
  "kernelspec": {
   "display_name": ".venv",
   "language": "python",
   "name": "python3"
  },
  "language_info": {
   "codemirror_mode": {
    "name": "ipython",
    "version": 3
   },
   "file_extension": ".py",
   "mimetype": "text/x-python",
   "name": "python",
   "nbconvert_exporter": "python",
   "pygments_lexer": "ipython3",
   "version": "3.12.11"
  }
 },
 "nbformat": 4,
 "nbformat_minor": 5
}
