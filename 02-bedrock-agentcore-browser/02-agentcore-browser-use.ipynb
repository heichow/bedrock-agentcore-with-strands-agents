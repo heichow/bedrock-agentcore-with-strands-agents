{
 "cells": [
  {
   "cell_type": "markdown",
   "id": "main-title",
   "metadata": {},
   "source": [
    "# Strands Agents with Bedrock AgentCore Browser\n",
    "\n",
    "This workshop demonstrates how to integrate Strands Agents with Amazon Bedrock AgentCore Browser to create AI agents capable of interacting with web browsers dynamically.\n",
    "\n",
    "## Overview\n",
    "\n",
    "In this lab, you will:\n",
    "- Learn about Bedrock AgentCore Browser capabilities\n",
    "- Test browser automation with Strands Agents\n",
    "- Navigate websites and extract information programmatically\n",
    "- Explore common use cases for browser automation\n",
    "- Understand best practices for web interaction"
   ]
  },
  {
   "cell_type": "markdown",
   "id": "09619786",
   "metadata": {},
   "source": [
    "## Prerequisites\n",
    "\n",
    "Before starting this lab, ensure you have:\n",
    "- AWS credentials configured (IAM role or environment variables)\n",
    "- Required Python packages installed\n",
    "- Basic understanding of Strands Agents and Bedrock AgentCore concepts\n",
    "\n",
    "If you're not running in an environment with an IAM role assumed, set your AWS credentials as environment variables:"
   ]
  },
  {
   "cell_type": "code",
   "execution_count": null,
   "id": "a8111f9e",
   "metadata": {},
   "outputs": [],
   "source": [
    "import os\n",
    "\n",
    "#os.environ[\"AWS_ACCESS_KEY_ID\"]=<YOUR ACCESS KEY>\n",
    "#os.environ[\"AWS_SECRET_ACCESS_KEY\"]=<YOUR SECRET KEY>\n",
    "#os.environ[\"AWS_SESSION_TOKEN\"]=<OPTIONAL - YOUR SESSION TOKEN IF TEMP CREDENTIAL>\n",
    "#os.environ[\"AWS_REGION\"]=<AWS REGION WITH BEDROCK AGENTCORE AVAILABLE>"
   ]
  },
  {
   "cell_type": "markdown",
   "id": "cd4c88bd",
   "metadata": {},
   "source": [
    "Install required packages for Strands Agents and Bedrock AgentCore Python SDK:"
   ]
  },
  {
   "cell_type": "code",
   "execution_count": null,
   "id": "73c848d4",
   "metadata": {},
   "outputs": [],
   "source": [
    "%pip install -q strands-agents strands-agents-tools bedrock-agentcore"
   ]
  },
  {
   "cell_type": "markdown",
   "id": "c131d5a7",
   "metadata": {},
   "source": [
    "## What is Bedrock AgentCore Browser?\n",
    "\n",
    "Amazon Bedrock AgentCore Browser is a powerful tool that enables AI agents to interact with web browsers dynamically in a secure, managed environment. Key capabilities include:\n",
    "\n",
    "- **Web Navigation**: Navigate to websites, click elements, and fill forms programmatically\n",
    "- **Content Extraction**: Extract information from web pages and capture screenshots\n",
    "- **Secure Environment**: Runs in an isolated, secure browser environment\n",
    "- **JavaScript Execution**: Execute custom JavaScript for advanced web interactions\n",
    "- **Session Management**: Maintain browser sessions across multiple operations\n",
    "\n",
    "The Browser tool enables agents to perform complex web-based tasks that require visual understanding and interactive capabilities."
   ]
  },
  {
   "cell_type": "markdown",
   "id": "e65876db",
   "metadata": {},
   "source": [
    "### Testing Strands Agent with Browser Automation\n",
    "\n",
    "Let's demonstrate the Strands Agent using AgentCore Browser for web automation. We'll navigate to Amazon, search for coffee makers, and extract detailed product information from the first result."
   ]
  },
  {
   "cell_type": "code",
   "execution_count": null,
   "id": "d037f5a6",
   "metadata": {},
   "outputs": [],
   "source": [
    "from strands import Agent\n",
    "from strands.models import BedrockModel\n",
    "from strands_tools.browser import AgentCoreBrowser\n",
    "\n",
    "agentcore_browser = AgentCoreBrowser()\n",
    "\n",
    "# Create a web browser assistant agent\n",
    "agent = Agent(\n",
    "    model=BedrockModel(model_id=\"us.amazon.nova-pro-v1:0\"),\n",
    "    system_prompt=\"\"\"You are a helpful assistant that provides concise responses. \n",
    "                  When navigate website, please take screenshot for reference.\n",
    "                  \"\"\",\n",
    "    tools=[agentcore_browser.browser],\n",
    ")\n",
    "\n",
    "agent(\"Search for a coffee maker on amazon.com and extract details of the first one\")"
   ]
  },
  {
   "cell_type": "markdown",
   "id": "d93c3c66",
   "metadata": {},
   "source": [
    "Let's examine the detailed execution flow of the agent loop to understand how the agent processes requests and generates responses:"
   ]
  },
  {
   "cell_type": "code",
   "execution_count": null,
   "id": "10b2050a",
   "metadata": {},
   "outputs": [],
   "source": [
    "print(\"Agent Loop Detail\")\n",
    "print(\"-----------------\")\n",
    "\n",
    "print(f\"Agent Loop Length: {len(agent.messages)})\")\n",
    "print(\"\\nUser-Assistant Conversation:\")\n",
    "for message in agent.messages:\n",
    "    print(message)"
   ]
  },
  {
   "cell_type": "markdown",
   "id": "07c4afad",
   "metadata": {},
   "source": [
    "## Common Use Cases for Bedrock AgentCore Browser\n",
    "\n",
    "Beyond web search, Bedrock AgentCore Browser enables a wide variety of automation scenarios:\n",
    "\n",
    "### Web Application Testing\n",
    "- Test web applications in a secure environment\n",
    "- Validate user interfaces and functionality\n",
    "- Perform automated quality assurance\n",
    "\n",
    "### Data Collection & Monitoring\n",
    "- Extract information from websites\n",
    "- Monitor website changes and updates\n",
    "- Capture screenshots and record browser sessions\n",
    "\n",
    "### Business Process Automation\n",
    "- Automate form submissions and data entry\n",
    "- Perform e-commerce transactions\n",
    "- Access online resources and services\n",
    "\n",
    "### AI-Powered Web Interaction\n",
    "- Build AI agents that can navigate the web\n",
    "- Interact with web interfaces intelligently\n",
    "- Perform web-based tasks and workflows\n",
    "\n",
    "**Additional Resources:**\n",
    "[Bedrock AgentCore Browser Use Cases Examples](https://docs.aws.amazon.com/bedrock-agentcore/latest/devguide/browser-use-cases.html#browser-use-cases-examples)"
   ]
  }
 ],
 "metadata": {
  "kernelspec": {
   "display_name": ".venv",
   "language": "python",
   "name": "python3"
  },
  "language_info": {
   "codemirror_mode": {
    "name": "ipython",
    "version": 3
   },
   "file_extension": ".py",
   "mimetype": "text/x-python",
   "name": "python",
   "nbconvert_exporter": "python",
   "pygments_lexer": "ipython3",
   "version": "3.12.11"
  }
 },
 "nbformat": 4,
 "nbformat_minor": 5
}
