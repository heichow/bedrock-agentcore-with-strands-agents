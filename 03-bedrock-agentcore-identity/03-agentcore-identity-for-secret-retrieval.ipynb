{
 "cells": [
  {
   "cell_type": "markdown",
   "id": "main-title",
   "metadata": {},
   "source": [
    "# Secure credentials with Bedrock AgentCore Identity\n",
    "\n",
    "This workshop demonstrates how to integrate Strands Agents with Amazon Bedrock AgentCore Identity to securely manage API keys and credentials for external services when building AI agents.\n",
    "\n",
    "## Overview\n",
    "\n",
    "In this lab, you will:\n",
    "- Learn about secure credential management challenges\n",
    "- Understand Bedrock AgentCore Identity capabilities\n",
    "- Create API Key Credential Providers for external services\n",
    "- Test secure credential retrieval in AI agents\n",
    "- Explore best practices for credential management"
   ]
  },
  {
   "cell_type": "markdown",
   "id": "09619786",
   "metadata": {},
   "source": [
    "## Prerequisites\n",
    "\n",
    "Before starting this lab, ensure you have:\n",
    "- AWS credentials configured (IAM role or environment variables)\n",
    "- Required Python packages installed\n",
    "- Basic understanding of Strands Agents and Bedrock AgentCore concepts\n",
    "- An external API key (e.g., Exa API key) for testing\n",
    "\n",
    "If you're not running in an environment with an IAM role assumed, set your AWS credentials as environment variables:"
   ]
  },
  {
   "cell_type": "code",
   "execution_count": null,
   "id": "9ddff137",
   "metadata": {},
   "outputs": [],
   "source": [
    "import os\n",
    "\n",
    "#os.environ[\"AWS_ACCESS_KEY_ID\"]=<YOUR ACCESS KEY>\n",
    "#os.environ[\"AWS_SECRET_ACCESS_KEY\"]=<YOUR SECRET KEY>\n",
    "#os.environ[\"AWS_SESSION_TOKEN\"]=<OPTIONAL - YOUR SESSION TOKEN IF TEMP CREDENTIAL>\n",
    "#os.environ[\"AWS_REGION\"]=<AWS REGION WITH BEDROCK AGENTCORE AVAILABLE>"
   ]
  },
  {
   "cell_type": "markdown",
   "id": "cd4c88bd",
   "metadata": {},
   "source": [
    "Install required packages for Strands Agents and Bedrock AgentCore Python SDK:"
   ]
  },
  {
   "cell_type": "code",
   "execution_count": null,
   "id": "50921df1",
   "metadata": {},
   "outputs": [],
   "source": [
    "%pip install -q strands-agents strands-agents-tools bedrock-agentcore"
   ]
  },
  {
   "cell_type": "markdown",
   "id": "66b16281",
   "metadata": {},
   "source": [
    "## Retrieve Exa API key to connect Remote Exa MCP\n",
    "\n",
    "In this lab, we will interact [Remote Exa MCP](https://docs.exa.ai/reference/exa-mcp) to perform real-time web searches through the Exa Search API, which requires Exa API key to connect.\n",
    "\n",
    "Exa MCP server URL: ```https://mcp.exa.ai/mcp?exaApiKey=your-exa-api-key```\n",
    "\n",
    "To get Exa API key, go to [Exa login page](https://dashboard.exa.ai/login) to register with your email. \n",
    "\n",
    "Then go to [API key section](https://dashboard.exa.ai/api-keys) in Exa dashboard to create an API key. Copy the API key to `EXA_API_KEY` in below code..."
   ]
  },
  {
   "cell_type": "markdown",
   "id": "e65876db",
   "metadata": {},
   "source": [
    "## Understanding Credential Management Challenges\n",
    "\n",
    "### Demonstrating Insecure API Key Usage\n",
    "\n",
    "Let's first demonstrate what happens when we try to use an external service (Exa search) without proper credential management. This will show the security risks and authentication failures that occur with hardcoded or invalid API keys."
   ]
  },
  {
   "cell_type": "code",
   "execution_count": null,
   "id": "47a48d50-3db5-4c1e-84fc-9c6f51acfe8b",
   "metadata": {},
   "outputs": [],
   "source": [
    "from strands import Agent\n",
    "from strands.models import BedrockModel\n",
    "from strands.tools.mcp import MCPClient\n",
    "from mcp.client.streamable_http import streamablehttp_client\n",
    "\n",
    "# !-------- UPDATE THE EXA API KEY HERE  --------!\n",
    "EXA_API_KEY = <YOUR EXA API KEY> \n",
    "\n",
    "# Connect to the weather MCP server\n",
    "print(\"\\nConnecting to MCP Server...\")\n",
    "exa_server = MCPClient(lambda: streamablehttp_client(f\"https://mcp.exa.ai/mcp?exaApiKey={EXA_API_KEY}\"))\n",
    "\n",
    "with exa_server:\n",
    "    # Combine all tools - they all work the same way!\n",
    "    mcp_tools = (\n",
    "        exa_server.list_tools_sync()\n",
    "    )\n",
    "\n",
    "    print(f\"Available tools: {[tool.tool_name for tool in mcp_tools]}\")\n",
    "    \n",
    "    # Create agent with Exa MCP tools\n",
    "    agent = Agent(model=BedrockModel(model_id=\"us.amazon.nova-pro-v1:0\"),\n",
    "                  system_prompt=\"You are a helpful assistant that provides concise responses.\",\n",
    "                  tools=mcp_tools)\n",
    "\n",
    "    agent(\"What is Bedrock AgentCore?\")"
   ]
  },
  {
   "cell_type": "markdown",
   "id": "c131d5a7",
   "metadata": {},
   "source": [
    "## What is Bedrock AgentCore Identity?\n",
    "\n",
    "Amazon Bedrock AgentCore Identity provides secure credential management for AI agents that need to access external services. Key benefits include:\n",
    "\n",
    "- **Secure Storage**: Stores API keys, tokens, and credentials in AWS Secrets Manager\n",
    "- **Runtime Retrieval**: Provides secure credential access at runtime without hardcoding\n",
    "- **Access Control**: Integrates with AWS IAM for fine-grained access permissions\n",
    "- **Audit Trail**: Maintains logs of credential access for security monitoring\n",
    "- **Rotation Support**: Enables automatic credential rotation and lifecycle management\n",
    "\n",
    "This service eliminates the need to hardcode sensitive credentials in your application code, reducing security risks and improving compliance."
   ]
  },
  {
   "cell_type": "markdown",
   "id": "create-provider",
   "metadata": {},
   "source": [
    "## Creating Secure Credential Management\n",
    "\n",
    "### Step 1: Create API Key Credential Provider\n",
    "\n",
    "Now we'll create an API Key Credential Provider using Bedrock AgentCore Identity. This securely stores the Exa API key in AWS Secrets Manager and provides a managed way to access it without exposing credentials in code."
   ]
  },
  {
   "cell_type": "code",
   "execution_count": null,
   "id": "4dc7ef09-7a69-4bc9-aa50-8d8703e67573",
   "metadata": {},
   "outputs": [],
   "source": [
    "from bedrock_agentcore.services.identity import IdentityClient\n",
    "import boto3\n",
    "\n",
    "# !-------- UPDATE THE EXA API KEY HERE  --------!\n",
    "EXA_API_KEY = <YOUR EXA API KEY> \n",
    "\n",
    "region = boto3.session.Session().region_name\n",
    "\n",
    "#Configure API Key Provider\n",
    "identity_client = IdentityClient(region=region)\n",
    "\n",
    "try:\n",
    "    api_key_provider = identity_client.create_api_key_credential_provider({\n",
    "        \"name\": \"exa-apikey-provider\",\n",
    "        \"apiKey\": EXA_API_KEY # Replace it with the API key you obtain from the external application vendor, e.g., OpenAI\n",
    "    })\n",
    "    print(\"Created AgentCore Identity API Key Credential Provider.\")\n",
    "    print(api_key_provider)\n",
    "except Exception as e:\n",
    "    print(\"AgentCore Identity API Key Credential Provider already exist.\")"
   ]
  },
  {
   "cell_type": "markdown",
   "id": "secure-test",
   "metadata": {},
   "source": [
    "### Step 2: Test Secure Credential Retrieval\n",
    "\n",
    "Now let's test our agent using secure credential retrieval. The `@requires_api_key` decorator automatically retrieves the API key from the credential provider at runtime, ensuring no hardcoded secrets in our code while maintaining security best practices."
   ]
  },
  {
   "cell_type": "code",
   "execution_count": null,
   "id": "ce2ff8a0-b17d-4fe2-8e6c-b75e660730d2",
   "metadata": {},
   "outputs": [],
   "source": [
    "from strands import Agent\n",
    "from strands.models import BedrockModel\n",
    "from strands.tools.mcp import MCPClient\n",
    "from mcp.client.streamable_http import streamablehttp_client\n",
    "from bedrock_agentcore.identity.auth import requires_api_key\n",
    "\n",
    "@requires_api_key(provider_name=\"exa-apikey-provider\")\n",
    "def need_api_key(*, api_key: str):\n",
    "    print(f'received api key for async func: {api_key}')\n",
    "    return api_key\n",
    "\n",
    "EXA_API_KEY = need_api_key()\n",
    "\n",
    "# Connect to the EXA MCP server\n",
    "print(\"\\nConnecting to MCP Server...\")\n",
    "exa_server = MCPClient(lambda: streamablehttp_client(f\"https://mcp.exa.ai/mcp?exaApiKey={EXA_API_KEY}\"))\n",
    "\n",
    "with exa_server:\n",
    "    # Combine all tools - they all work the same way!\n",
    "    mcp_tools = (\n",
    "        exa_server.list_tools_sync()\n",
    "    )\n",
    "\n",
    "    print(f\"Available tools: {[tool.tool_name for tool in mcp_tools]}\")\n",
    "    \n",
    "    # Create agent with Exa MCP tools\n",
    "    agent = Agent(model=BedrockModel(model_id=\"us.amazon.nova-pro-v1:0\"),\n",
    "                  system_prompt=\"You are a helpful assistant that provides concise responses.\",\n",
    "                  tools=mcp_tools)\n",
    "\n",
    "    agent(\"What is Bedrock AgentCore?\")"
   ]
  },
  {
   "cell_type": "markdown",
   "id": "b80ad21e",
   "metadata": {},
   "source": [
    "Let's examine the detailed execution flow of the agent loop to understand how the agent processes requests and generates responses:"
   ]
  },
  {
   "cell_type": "code",
   "execution_count": null,
   "id": "3a463338",
   "metadata": {},
   "outputs": [],
   "source": [
    "print(\"Agent Loop Detail\")\n",
    "print(\"-----------------\")\n",
    "\n",
    "print(f\"Agent Loop Length: {len(agent.messages)})\")\n",
    "print(\"\\nUser-Assistant Conversation:\")\n",
    "for message in agent.messages:\n",
    "    print(message)"
   ]
  },
  {
   "cell_type": "markdown",
   "id": "d1c327e8",
   "metadata": {},
   "source": [
    "## Resource Cleanup (Optional)\n",
    "\n",
    "Clean up the deployed resources:"
   ]
  },
  {
   "cell_type": "code",
   "execution_count": null,
   "id": "8235e5fd",
   "metadata": {},
   "outputs": [],
   "source": [
    "import boto3\n",
    "\n",
    "agentcore_control_client = boto3.client('bedrock-agentcore-control', region_name=region)\n",
    "\n",
    "try:\n",
    "    print(\"Deleting AgentCore Identity...\")\n",
    "    agentcore_control_client.delete_api_key_credential_provider(name=\"exa-apikey-provider\")\n",
    "    print(\"✓ AgentCore Identity deletion initiated\")\n",
    "except Exception as e:\n",
    "    print(f\"❌ Error during cleanup: {e}\")\n",
    "    print(\"You may need to manually clean up some resources.\")"
   ]
  }
 ],
 "metadata": {
  "kernelspec": {
   "display_name": "Python 3",
   "language": "python",
   "name": "python3"
  },
  "language_info": {
   "codemirror_mode": {
    "name": "ipython",
    "version": 3
   },
   "file_extension": ".py",
   "mimetype": "text/x-python",
   "name": "python",
   "nbconvert_exporter": "python",
   "pygments_lexer": "ipython3",
   "version": "3.12.7"
  }
 },
 "nbformat": 4,
 "nbformat_minor": 5
}
